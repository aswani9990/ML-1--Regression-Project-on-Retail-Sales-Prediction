{
  "nbformat": 4,
  "nbformat_minor": 0,
  "metadata": {
    "colab": {
      "provenance": [],
      "include_colab_link": true
    },
    "kernelspec": {
      "display_name": "Python 3",
      "language": "python",
      "name": "python3"
    },
    "language_info": {
      "codemirror_mode": {
        "name": "ipython",
        "version": 3
      },
      "file_extension": ".py",
      "mimetype": "text/x-python",
      "name": "python",
      "nbconvert_exporter": "python",
      "pygments_lexer": "ipython3",
      "version": "3.6.6"
    }
  },
  "cells": [
    {
      "cell_type": "markdown",
      "metadata": {
        "id": "view-in-github",
        "colab_type": "text"
      },
      "source": [
        "<a href=\"https://colab.research.google.com/github/aswani9990/ML-Regression-Project/blob/main/Ashwani_Kumar_Capstone_Project_on_ML_Regression_Retail_Sales_Prediction_.ipynb\" target=\"_parent\"><img src=\"https://colab.research.google.com/assets/colab-badge.svg\" alt=\"Open In Colab\"/></a>"
      ]
    },
    {
      "cell_type": "markdown",
      "metadata": {
        "id": "tOGC-qoyhJeX"
      },
      "source": [
        "# <b><u> Project Title :\n",
        "Retail Sales Prediction -- **Predicting sales of a major store chain Rossmann**"
      ]
    },
    {
      "cell_type": "markdown",
      "source": [
        "**Project Type- Regression**\n",
        "\n",
        "\n",
        "**Contribution - Team**\n",
        " \n",
        "\n",
        "1. Ashwani Kumar\n",
        "2. Shahbaz Khan\n"
      ],
      "metadata": {
        "id": "DrdH6k_KFewM"
      }
    },
    {
      "cell_type": "markdown",
      "source": [
        "**Project Summary -**"
      ],
      "metadata": {
        "id": "d6A8oAM8F1Md"
      }
    },
    {
      "cell_type": "markdown",
      "source": [
        "Regression algorithms are commonly used in machine learning to forecast sales volume. They do this by analyzing large amounts of data based on the past to determine patterns to predict future events.\n",
        "Businesses use sales forecasts to determine what revenue they will be generating in a particular\n",
        "timespan to empower themselves with powerful and strategic business plans. Important decisions\n",
        "such as budgets, hiring, incentives, goals, acquisitions and various other growth plans are\n",
        "affected by the revenue the company is going to make in the coming months and for these plans\n",
        "to be as effective as they are planned to be it is important for these forecasts to also be as good.\n",
        "Some important conclusions drawn from the analysis are as follows:\n",
        "\n",
        "● The positive effect of promotion on Customers and Sales.\n",
        "\n",
        "● Most stores have competition distance within the range of 0 to 10 kms and had more sales\n",
        "than stores far away probably indicating competition in busy locations vs remote locations.\n",
        "\n",
        "The main objective of sales forecasting is to paint\n",
        "an accurate picture of expected sales. Sales teams\n",
        "aim to either hit their expected target or exceed it.\n",
        "When the sales forecast is accurate, operations go\n",
        "smoothly and future planning for the company's\n",
        "growth is done efficiently."
      ],
      "metadata": {
        "id": "EDnDC2TrF6Vy"
      }
    },
    {
      "cell_type": "markdown",
      "source": [
        "**GitHub Link -**"
      ],
      "metadata": {
        "id": "QvhKZR6BF-KU"
      }
    },
    {
      "cell_type": "markdown",
      "source": [
        "https://github.com/aswani9990/ML-Regression-Project"
      ],
      "metadata": {
        "id": "E84PrG06GEEP"
      }
    },
    {
      "cell_type": "markdown",
      "metadata": {
        "id": "Y06xIdG26kRF"
      },
      "source": [
        "## <b> Problem Statement </b>\n",
        "\n",
        "### Rossmann operates over 3,000 drug stores in 7 European countries. Currently, Rossmann store managers are tasked with predicting their daily sales for up to six weeks in advance. Store sales are influenced by many factors, including promotions, competition, school and state holidays, seasonality, and locality. With thousands of individual managers predicting sales based on their unique circumstances, the accuracy of results can be quite varied.\n",
        "\n",
        "### You are provided with historical sales data for 1,115 Rossmann stores. The task is to forecast the \"Sales\" column for the test set. Note that some stores in the dataset were temporarily closed for refurbishment."
      ]
    },
    {
      "cell_type": "markdown",
      "metadata": {
        "id": "WWeU1f9bwqQq"
      },
      "source": [
        "## <b> Data Description </b>\n",
        "\n",
        "### <b>Rossmann Stores Data.csv </b> - historical data including Sales\n",
        "### <b>store.csv </b> - supplemental information about the stores\n",
        "\n",
        "\n",
        "### <b><u>Data fields</u></b>\n",
        "### Most of the fields are self-explanatory. The following are descriptions for those that aren't.\n",
        "\n",
        "* #### Id - an Id that represents a (Store, Date) duple within the test set\n",
        "* #### Store - a unique Id for each store\n",
        "* #### Sales - the turnover for any given day (this is what you are predicting)\n",
        "* #### Customers - the number of customers on a given day\n",
        "* #### Open - an indicator for whether the store was open: 0 = closed, 1 = open\n",
        "* #### StateHoliday - indicates a state holiday. Normally all stores, with few exceptions, are closed on state holidays. Note that all schools are closed on public holidays and weekends. a = public holiday, b = Easter holiday, c = Christmas, 0 = None\n",
        "* #### SchoolHoliday - indicates if the (Store, Date) was affected by the closure of public schools\n",
        "* #### StoreType - differentiates between 4 different store models: a, b, c, d\n",
        "* #### Assortment - describes an assortment level: a = basic, b = extra, c = extended\n",
        "* #### CompetitionDistance - distance in meters to the nearest competitor store\n",
        "* #### CompetitionOpenSince[Month/Year] - gives the approximate year and month of the time the nearest competitor was opened\n",
        "* #### Promo - indicates whether a store is running a promo on that day\n",
        "* #### Promo2 - Promo2 is a continuing and consecutive promotion for some stores: 0 = store is not participating, 1 = store is participating\n",
        "* #### Promo2Since[Year/Week] - describes the year and calendar week when the store started participating in Promo2\n",
        "* #### PromoInterval - describes the consecutive intervals Promo2 is started, naming the months the promotion is started anew. E.g. \"Feb,May,Aug,Nov\" means each round starts in February, May, August, November of any given year for that store"
      ]
    },
    {
      "cell_type": "markdown",
      "source": [
        "**General Guidelines : -**"
      ],
      "metadata": {
        "id": "QfUIjSEbGenI"
      }
    },
    {
      "cell_type": "markdown",
      "source": [
        "1.   Well-structured, formatted, and commented code is required. \n",
        "2.   Exception Handling, Production Grade Code & Deployment Ready Code will be a plus. Those students will be awarded some additional credits. \n",
        "     \n",
        "     The additional credits will have advantages over other students during Star Student selection.\n",
        "       \n",
        "             [ Note: - Deployment Ready Code is defined as, the whole .ipynb notebook should be executable in one go\n",
        "                       without a single error logged. ]\n",
        "\n",
        "3.   Each and every logic should have proper comments.\n",
        "4. You may add as many number of charts you want. Make Sure for each and every chart the following format should be answered.\n",
        "        \n",
        "\n",
        "\n",
        "\n",
        "```\n",
        "# Chart visualization code\n",
        "```\n",
        "            \n",
        "\n",
        "*   Why did you pick the specific chart?\n",
        "*   What is/are the insight(s) found from the chart?\n",
        "* Will the gained insights help creating a positive business impact? \n",
        "Are there any insights that lead to negative growth? Justify with specific reason.\n",
        "\n",
        "5. You have to create at least 15 logical & meaningful charts having important insights.\n",
        "\n",
        "\n",
        "[ Hints : - Do the Vizualization in  a structured way while following \"UBM\" Rule. \n",
        "\n",
        "U - Univariate Analysis,\n",
        "\n",
        "B - Bivariate Analysis (Numerical - Categorical, Numerical - Numerical, Categorical - Categorical)\n",
        "\n",
        "M - Multivariate Analysis\n",
        " ]\n",
        "\n",
        "\n",
        "\n",
        "\n",
        "\n",
        "6. You may add more ml algorithms for model creation. Make sure for each and every algorithm, the following format should be answered.\n",
        "\n",
        "\n",
        "*   Explain the ML Model used and it's performance using Evaluation metric Score Chart.\n",
        "\n",
        "\n",
        "*   Cross- Validation & Hyperparameter Tuning\n",
        "\n",
        "*   Have you seen any improvement? Note down the improvement with updates Evaluation metric Score Chart.\n",
        "\n",
        "*   Explain each evaluation metric's indication towards business and the business impact pf the ML model used.\n",
        "\n",
        "\n"
      ],
      "metadata": {
        "id": "HpPg2sg8Gi8K"
      }
    },
    {
      "cell_type": "markdown",
      "source": [
        "**Let's Begin !**"
      ],
      "metadata": {
        "id": "KHrfc-PlGrGE"
      }
    },
    {
      "cell_type": "markdown",
      "source": [
        "**1. Know Your Data**"
      ],
      "metadata": {
        "id": "aBBkJ5LKGxly"
      }
    },
    {
      "cell_type": "markdown",
      "metadata": {
        "id": "InAK97MKd5dv"
      },
      "source": [
        "## Loading Libraries & Data"
      ]
    },
    {
      "cell_type": "code",
      "metadata": {
        "id": "dByMsuzT8Tnw"
      },
      "source": [
        "#importing libraries\n",
        "\n",
        "import pandas as pd\n",
        "import numpy as np\n",
        "import matplotlib.pyplot as plt\n",
        "import seaborn as sns\n",
        "import datetime\n",
        "import missingno as msno\n",
        "import matplotlib\n",
        "import matplotlib.pylab as pylab\n",
        "\n",
        "%matplotlib inline\n",
        "matplotlib.style.use('ggplot')\n",
        "sns.set_style('white')\n",
        "pylab.rcParams['figure.figsize'] = 8,6\n",
        "\n",
        "import math\n",
        "import statsmodels.api as sm\n",
        "from sklearn.model_selection import train_test_split\n",
        "from sklearn.linear_model import LinearRegression\n",
        "from sklearn.metrics import mean_squared_error\n",
        "from math import sqrt\n",
        "from sklearn.linear_model import BayesianRidge\n",
        "from sklearn.linear_model import LassoLars\n",
        "from sklearn.tree import DecisionTreeRegressor\n",
        "from sklearn.ensemble import RandomForestRegressor\n",
        "from sklearn.neighbors import KNeighborsRegressor\n",
        "from sklearn.model_selection import RandomizedSearchCV\n",
        "from sklearn.metrics import mean_squared_error\n",
        "from sklearn.metrics import r2_score\n",
        "from sklearn.preprocessing import MinMaxScaler\n",
        "from sklearn.linear_model import ElasticNet"
      ],
      "execution_count": 15,
      "outputs": []
    },
    {
      "cell_type": "code",
      "source": [
        "from google.colab import drive\n",
        "drive.mount('/content/drive')"
      ],
      "metadata": {
        "colab": {
          "base_uri": "https://localhost:8080/"
        },
        "id": "X916mO5LmQX4",
        "outputId": "58a6380d-f0ec-4f85-e1ea-a5582b02c374"
      },
      "execution_count": 16,
      "outputs": [
        {
          "output_type": "stream",
          "name": "stdout",
          "text": [
            "Drive already mounted at /content/drive; to attempt to forcibly remount, call drive.mount(\"/content/drive\", force_remount=True).\n"
          ]
        }
      ]
    },
    {
      "cell_type": "code",
      "metadata": {
        "id": "A33KLzO0LN1t"
      },
      "source": [
        "#Loading Rossman Dataset\n",
        "rossman_df= pd.read_csv('/content/Rossmann Stores Data.csv', low_memory= False)"
      ],
      "execution_count": 17,
      "outputs": []
    },
    {
      "cell_type": "code",
      "metadata": {
        "id": "_DA4m29QQ7KC"
      },
      "source": [
        "#Loading Store Dataset\n",
        "store_df=pd.read_csv('/content/store.csv', low_memory= False)"
      ],
      "execution_count": 18,
      "outputs": []
    },
    {
      "cell_type": "markdown",
      "metadata": {
        "id": "ReyE89RMSUAV"
      },
      "source": [
        "## **Analysing the Rossman Dataset**"
      ]
    },
    {
      "cell_type": "code",
      "metadata": {
        "colab": {
          "base_uri": "https://localhost:8080/",
          "height": 206
        },
        "id": "0AZ_iHb6LUzn",
        "outputId": "895f1b59-f862-493d-e148-5be4b4e32ada"
      },
      "source": [
        "rossman_df.head()"
      ],
      "execution_count": 19,
      "outputs": [
        {
          "output_type": "execute_result",
          "data": {
            "text/plain": [
              "   Store  DayOfWeek        Date    Sales  Customers  Open  Promo StateHoliday  \\\n",
              "0      1          5  2015-07-31   5263.0      555.0   1.0    1.0            0   \n",
              "1      2          5  2015-07-31   6064.0      625.0   1.0    1.0            0   \n",
              "2      3          5  2015-07-31   8314.0      821.0   1.0    1.0            0   \n",
              "3      4          5  2015-07-31  13995.0     1498.0   1.0    1.0            0   \n",
              "4      5          5  2015-07-31   4822.0      559.0   1.0    1.0            0   \n",
              "\n",
              "   SchoolHoliday  \n",
              "0            1.0  \n",
              "1            1.0  \n",
              "2            1.0  \n",
              "3            1.0  \n",
              "4            1.0  "
            ],
            "text/html": [
              "\n",
              "  <div id=\"df-5ad3c561-27f8-41ef-8cff-8f1d2a8fddff\">\n",
              "    <div class=\"colab-df-container\">\n",
              "      <div>\n",
              "<style scoped>\n",
              "    .dataframe tbody tr th:only-of-type {\n",
              "        vertical-align: middle;\n",
              "    }\n",
              "\n",
              "    .dataframe tbody tr th {\n",
              "        vertical-align: top;\n",
              "    }\n",
              "\n",
              "    .dataframe thead th {\n",
              "        text-align: right;\n",
              "    }\n",
              "</style>\n",
              "<table border=\"1\" class=\"dataframe\">\n",
              "  <thead>\n",
              "    <tr style=\"text-align: right;\">\n",
              "      <th></th>\n",
              "      <th>Store</th>\n",
              "      <th>DayOfWeek</th>\n",
              "      <th>Date</th>\n",
              "      <th>Sales</th>\n",
              "      <th>Customers</th>\n",
              "      <th>Open</th>\n",
              "      <th>Promo</th>\n",
              "      <th>StateHoliday</th>\n",
              "      <th>SchoolHoliday</th>\n",
              "    </tr>\n",
              "  </thead>\n",
              "  <tbody>\n",
              "    <tr>\n",
              "      <th>0</th>\n",
              "      <td>1</td>\n",
              "      <td>5</td>\n",
              "      <td>2015-07-31</td>\n",
              "      <td>5263.0</td>\n",
              "      <td>555.0</td>\n",
              "      <td>1.0</td>\n",
              "      <td>1.0</td>\n",
              "      <td>0</td>\n",
              "      <td>1.0</td>\n",
              "    </tr>\n",
              "    <tr>\n",
              "      <th>1</th>\n",
              "      <td>2</td>\n",
              "      <td>5</td>\n",
              "      <td>2015-07-31</td>\n",
              "      <td>6064.0</td>\n",
              "      <td>625.0</td>\n",
              "      <td>1.0</td>\n",
              "      <td>1.0</td>\n",
              "      <td>0</td>\n",
              "      <td>1.0</td>\n",
              "    </tr>\n",
              "    <tr>\n",
              "      <th>2</th>\n",
              "      <td>3</td>\n",
              "      <td>5</td>\n",
              "      <td>2015-07-31</td>\n",
              "      <td>8314.0</td>\n",
              "      <td>821.0</td>\n",
              "      <td>1.0</td>\n",
              "      <td>1.0</td>\n",
              "      <td>0</td>\n",
              "      <td>1.0</td>\n",
              "    </tr>\n",
              "    <tr>\n",
              "      <th>3</th>\n",
              "      <td>4</td>\n",
              "      <td>5</td>\n",
              "      <td>2015-07-31</td>\n",
              "      <td>13995.0</td>\n",
              "      <td>1498.0</td>\n",
              "      <td>1.0</td>\n",
              "      <td>1.0</td>\n",
              "      <td>0</td>\n",
              "      <td>1.0</td>\n",
              "    </tr>\n",
              "    <tr>\n",
              "      <th>4</th>\n",
              "      <td>5</td>\n",
              "      <td>5</td>\n",
              "      <td>2015-07-31</td>\n",
              "      <td>4822.0</td>\n",
              "      <td>559.0</td>\n",
              "      <td>1.0</td>\n",
              "      <td>1.0</td>\n",
              "      <td>0</td>\n",
              "      <td>1.0</td>\n",
              "    </tr>\n",
              "  </tbody>\n",
              "</table>\n",
              "</div>\n",
              "      <button class=\"colab-df-convert\" onclick=\"convertToInteractive('df-5ad3c561-27f8-41ef-8cff-8f1d2a8fddff')\"\n",
              "              title=\"Convert this dataframe to an interactive table.\"\n",
              "              style=\"display:none;\">\n",
              "        \n",
              "  <svg xmlns=\"http://www.w3.org/2000/svg\" height=\"24px\"viewBox=\"0 0 24 24\"\n",
              "       width=\"24px\">\n",
              "    <path d=\"M0 0h24v24H0V0z\" fill=\"none\"/>\n",
              "    <path d=\"M18.56 5.44l.94 2.06.94-2.06 2.06-.94-2.06-.94-.94-2.06-.94 2.06-2.06.94zm-11 1L8.5 8.5l.94-2.06 2.06-.94-2.06-.94L8.5 2.5l-.94 2.06-2.06.94zm10 10l.94 2.06.94-2.06 2.06-.94-2.06-.94-.94-2.06-.94 2.06-2.06.94z\"/><path d=\"M17.41 7.96l-1.37-1.37c-.4-.4-.92-.59-1.43-.59-.52 0-1.04.2-1.43.59L10.3 9.45l-7.72 7.72c-.78.78-.78 2.05 0 2.83L4 21.41c.39.39.9.59 1.41.59.51 0 1.02-.2 1.41-.59l7.78-7.78 2.81-2.81c.8-.78.8-2.07 0-2.86zM5.41 20L4 18.59l7.72-7.72 1.47 1.35L5.41 20z\"/>\n",
              "  </svg>\n",
              "      </button>\n",
              "      \n",
              "  <style>\n",
              "    .colab-df-container {\n",
              "      display:flex;\n",
              "      flex-wrap:wrap;\n",
              "      gap: 12px;\n",
              "    }\n",
              "\n",
              "    .colab-df-convert {\n",
              "      background-color: #E8F0FE;\n",
              "      border: none;\n",
              "      border-radius: 50%;\n",
              "      cursor: pointer;\n",
              "      display: none;\n",
              "      fill: #1967D2;\n",
              "      height: 32px;\n",
              "      padding: 0 0 0 0;\n",
              "      width: 32px;\n",
              "    }\n",
              "\n",
              "    .colab-df-convert:hover {\n",
              "      background-color: #E2EBFA;\n",
              "      box-shadow: 0px 1px 2px rgba(60, 64, 67, 0.3), 0px 1px 3px 1px rgba(60, 64, 67, 0.15);\n",
              "      fill: #174EA6;\n",
              "    }\n",
              "\n",
              "    [theme=dark] .colab-df-convert {\n",
              "      background-color: #3B4455;\n",
              "      fill: #D2E3FC;\n",
              "    }\n",
              "\n",
              "    [theme=dark] .colab-df-convert:hover {\n",
              "      background-color: #434B5C;\n",
              "      box-shadow: 0px 1px 3px 1px rgba(0, 0, 0, 0.15);\n",
              "      filter: drop-shadow(0px 1px 2px rgba(0, 0, 0, 0.3));\n",
              "      fill: #FFFFFF;\n",
              "    }\n",
              "  </style>\n",
              "\n",
              "      <script>\n",
              "        const buttonEl =\n",
              "          document.querySelector('#df-5ad3c561-27f8-41ef-8cff-8f1d2a8fddff button.colab-df-convert');\n",
              "        buttonEl.style.display =\n",
              "          google.colab.kernel.accessAllowed ? 'block' : 'none';\n",
              "\n",
              "        async function convertToInteractive(key) {\n",
              "          const element = document.querySelector('#df-5ad3c561-27f8-41ef-8cff-8f1d2a8fddff');\n",
              "          const dataTable =\n",
              "            await google.colab.kernel.invokeFunction('convertToInteractive',\n",
              "                                                     [key], {});\n",
              "          if (!dataTable) return;\n",
              "\n",
              "          const docLinkHtml = 'Like what you see? Visit the ' +\n",
              "            '<a target=\"_blank\" href=https://colab.research.google.com/notebooks/data_table.ipynb>data table notebook</a>'\n",
              "            + ' to learn more about interactive tables.';\n",
              "          element.innerHTML = '';\n",
              "          dataTable['output_type'] = 'display_data';\n",
              "          await google.colab.output.renderOutput(dataTable, element);\n",
              "          const docLink = document.createElement('div');\n",
              "          docLink.innerHTML = docLinkHtml;\n",
              "          element.appendChild(docLink);\n",
              "        }\n",
              "      </script>\n",
              "    </div>\n",
              "  </div>\n",
              "  "
            ]
          },
          "metadata": {},
          "execution_count": 19
        }
      ]
    },
    {
      "cell_type": "code",
      "metadata": {
        "colab": {
          "base_uri": "https://localhost:8080/",
          "height": 206
        },
        "id": "uZ5GqfDteaPH",
        "outputId": "e95eabb7-87eb-468f-d279-cbe5dbb8c621"
      },
      "source": [
        "rossman_df.tail()"
      ],
      "execution_count": 20,
      "outputs": [
        {
          "output_type": "execute_result",
          "data": {
            "text/plain": [
              "        Store  DayOfWeek        Date   Sales  Customers  Open  Promo  \\\n",
              "336218    872          2  2014-09-16  9231.0      922.0   1.0    1.0   \n",
              "336219    873          2  2014-09-16  4294.0      489.0   1.0    1.0   \n",
              "336220    874          2  2014-09-16  5593.0      570.0   1.0    1.0   \n",
              "336221    875          2  2014-09-16  5729.0      496.0   1.0    1.0   \n",
              "336222    876          2   2014-09-1     NaN        NaN   NaN    NaN   \n",
              "\n",
              "       StateHoliday  SchoolHoliday  \n",
              "336218            0            0.0  \n",
              "336219            0            0.0  \n",
              "336220            0            0.0  \n",
              "336221            0            0.0  \n",
              "336222          NaN            NaN  "
            ],
            "text/html": [
              "\n",
              "  <div id=\"df-bdb36eda-be37-4054-93fd-9be187712607\">\n",
              "    <div class=\"colab-df-container\">\n",
              "      <div>\n",
              "<style scoped>\n",
              "    .dataframe tbody tr th:only-of-type {\n",
              "        vertical-align: middle;\n",
              "    }\n",
              "\n",
              "    .dataframe tbody tr th {\n",
              "        vertical-align: top;\n",
              "    }\n",
              "\n",
              "    .dataframe thead th {\n",
              "        text-align: right;\n",
              "    }\n",
              "</style>\n",
              "<table border=\"1\" class=\"dataframe\">\n",
              "  <thead>\n",
              "    <tr style=\"text-align: right;\">\n",
              "      <th></th>\n",
              "      <th>Store</th>\n",
              "      <th>DayOfWeek</th>\n",
              "      <th>Date</th>\n",
              "      <th>Sales</th>\n",
              "      <th>Customers</th>\n",
              "      <th>Open</th>\n",
              "      <th>Promo</th>\n",
              "      <th>StateHoliday</th>\n",
              "      <th>SchoolHoliday</th>\n",
              "    </tr>\n",
              "  </thead>\n",
              "  <tbody>\n",
              "    <tr>\n",
              "      <th>336218</th>\n",
              "      <td>872</td>\n",
              "      <td>2</td>\n",
              "      <td>2014-09-16</td>\n",
              "      <td>9231.0</td>\n",
              "      <td>922.0</td>\n",
              "      <td>1.0</td>\n",
              "      <td>1.0</td>\n",
              "      <td>0</td>\n",
              "      <td>0.0</td>\n",
              "    </tr>\n",
              "    <tr>\n",
              "      <th>336219</th>\n",
              "      <td>873</td>\n",
              "      <td>2</td>\n",
              "      <td>2014-09-16</td>\n",
              "      <td>4294.0</td>\n",
              "      <td>489.0</td>\n",
              "      <td>1.0</td>\n",
              "      <td>1.0</td>\n",
              "      <td>0</td>\n",
              "      <td>0.0</td>\n",
              "    </tr>\n",
              "    <tr>\n",
              "      <th>336220</th>\n",
              "      <td>874</td>\n",
              "      <td>2</td>\n",
              "      <td>2014-09-16</td>\n",
              "      <td>5593.0</td>\n",
              "      <td>570.0</td>\n",
              "      <td>1.0</td>\n",
              "      <td>1.0</td>\n",
              "      <td>0</td>\n",
              "      <td>0.0</td>\n",
              "    </tr>\n",
              "    <tr>\n",
              "      <th>336221</th>\n",
              "      <td>875</td>\n",
              "      <td>2</td>\n",
              "      <td>2014-09-16</td>\n",
              "      <td>5729.0</td>\n",
              "      <td>496.0</td>\n",
              "      <td>1.0</td>\n",
              "      <td>1.0</td>\n",
              "      <td>0</td>\n",
              "      <td>0.0</td>\n",
              "    </tr>\n",
              "    <tr>\n",
              "      <th>336222</th>\n",
              "      <td>876</td>\n",
              "      <td>2</td>\n",
              "      <td>2014-09-1</td>\n",
              "      <td>NaN</td>\n",
              "      <td>NaN</td>\n",
              "      <td>NaN</td>\n",
              "      <td>NaN</td>\n",
              "      <td>NaN</td>\n",
              "      <td>NaN</td>\n",
              "    </tr>\n",
              "  </tbody>\n",
              "</table>\n",
              "</div>\n",
              "      <button class=\"colab-df-convert\" onclick=\"convertToInteractive('df-bdb36eda-be37-4054-93fd-9be187712607')\"\n",
              "              title=\"Convert this dataframe to an interactive table.\"\n",
              "              style=\"display:none;\">\n",
              "        \n",
              "  <svg xmlns=\"http://www.w3.org/2000/svg\" height=\"24px\"viewBox=\"0 0 24 24\"\n",
              "       width=\"24px\">\n",
              "    <path d=\"M0 0h24v24H0V0z\" fill=\"none\"/>\n",
              "    <path d=\"M18.56 5.44l.94 2.06.94-2.06 2.06-.94-2.06-.94-.94-2.06-.94 2.06-2.06.94zm-11 1L8.5 8.5l.94-2.06 2.06-.94-2.06-.94L8.5 2.5l-.94 2.06-2.06.94zm10 10l.94 2.06.94-2.06 2.06-.94-2.06-.94-.94-2.06-.94 2.06-2.06.94z\"/><path d=\"M17.41 7.96l-1.37-1.37c-.4-.4-.92-.59-1.43-.59-.52 0-1.04.2-1.43.59L10.3 9.45l-7.72 7.72c-.78.78-.78 2.05 0 2.83L4 21.41c.39.39.9.59 1.41.59.51 0 1.02-.2 1.41-.59l7.78-7.78 2.81-2.81c.8-.78.8-2.07 0-2.86zM5.41 20L4 18.59l7.72-7.72 1.47 1.35L5.41 20z\"/>\n",
              "  </svg>\n",
              "      </button>\n",
              "      \n",
              "  <style>\n",
              "    .colab-df-container {\n",
              "      display:flex;\n",
              "      flex-wrap:wrap;\n",
              "      gap: 12px;\n",
              "    }\n",
              "\n",
              "    .colab-df-convert {\n",
              "      background-color: #E8F0FE;\n",
              "      border: none;\n",
              "      border-radius: 50%;\n",
              "      cursor: pointer;\n",
              "      display: none;\n",
              "      fill: #1967D2;\n",
              "      height: 32px;\n",
              "      padding: 0 0 0 0;\n",
              "      width: 32px;\n",
              "    }\n",
              "\n",
              "    .colab-df-convert:hover {\n",
              "      background-color: #E2EBFA;\n",
              "      box-shadow: 0px 1px 2px rgba(60, 64, 67, 0.3), 0px 1px 3px 1px rgba(60, 64, 67, 0.15);\n",
              "      fill: #174EA6;\n",
              "    }\n",
              "\n",
              "    [theme=dark] .colab-df-convert {\n",
              "      background-color: #3B4455;\n",
              "      fill: #D2E3FC;\n",
              "    }\n",
              "\n",
              "    [theme=dark] .colab-df-convert:hover {\n",
              "      background-color: #434B5C;\n",
              "      box-shadow: 0px 1px 3px 1px rgba(0, 0, 0, 0.15);\n",
              "      filter: drop-shadow(0px 1px 2px rgba(0, 0, 0, 0.3));\n",
              "      fill: #FFFFFF;\n",
              "    }\n",
              "  </style>\n",
              "\n",
              "      <script>\n",
              "        const buttonEl =\n",
              "          document.querySelector('#df-bdb36eda-be37-4054-93fd-9be187712607 button.colab-df-convert');\n",
              "        buttonEl.style.display =\n",
              "          google.colab.kernel.accessAllowed ? 'block' : 'none';\n",
              "\n",
              "        async function convertToInteractive(key) {\n",
              "          const element = document.querySelector('#df-bdb36eda-be37-4054-93fd-9be187712607');\n",
              "          const dataTable =\n",
              "            await google.colab.kernel.invokeFunction('convertToInteractive',\n",
              "                                                     [key], {});\n",
              "          if (!dataTable) return;\n",
              "\n",
              "          const docLinkHtml = 'Like what you see? Visit the ' +\n",
              "            '<a target=\"_blank\" href=https://colab.research.google.com/notebooks/data_table.ipynb>data table notebook</a>'\n",
              "            + ' to learn more about interactive tables.';\n",
              "          element.innerHTML = '';\n",
              "          dataTable['output_type'] = 'display_data';\n",
              "          await google.colab.output.renderOutput(dataTable, element);\n",
              "          const docLink = document.createElement('div');\n",
              "          docLink.innerHTML = docLinkHtml;\n",
              "          element.appendChild(docLink);\n",
              "        }\n",
              "      </script>\n",
              "    </div>\n",
              "  </div>\n",
              "  "
            ]
          },
          "metadata": {},
          "execution_count": 20
        }
      ]
    },
    {
      "cell_type": "markdown",
      "metadata": {
        "id": "S-7KG5fLesbj"
      },
      "source": [
        "##### **Checking Information about Dataset**"
      ]
    },
    {
      "cell_type": "code",
      "metadata": {
        "colab": {
          "base_uri": "https://localhost:8080/"
        },
        "id": "i-6073GpMEyK",
        "outputId": "ea31b4d5-4a85-4bb0-c572-52eb88d7ffd0"
      },
      "source": [
        "rossman_df.shape"
      ],
      "execution_count": 21,
      "outputs": [
        {
          "output_type": "execute_result",
          "data": {
            "text/plain": [
              "(336223, 9)"
            ]
          },
          "metadata": {},
          "execution_count": 21
        }
      ]
    },
    {
      "cell_type": "code",
      "metadata": {
        "colab": {
          "base_uri": "https://localhost:8080/"
        },
        "id": "G9n492ssN-U7",
        "outputId": "18964e38-f943-49b9-a857-f52ef571e777"
      },
      "source": [
        "#Checking info of data as data types and rows and cols\n",
        "rossman_df.info()"
      ],
      "execution_count": 22,
      "outputs": [
        {
          "output_type": "stream",
          "name": "stdout",
          "text": [
            "<class 'pandas.core.frame.DataFrame'>\n",
            "RangeIndex: 336223 entries, 0 to 336222\n",
            "Data columns (total 9 columns):\n",
            " #   Column         Non-Null Count   Dtype  \n",
            "---  ------         --------------   -----  \n",
            " 0   Store          336223 non-null  int64  \n",
            " 1   DayOfWeek      336223 non-null  int64  \n",
            " 2   Date           336223 non-null  object \n",
            " 3   Sales          336222 non-null  float64\n",
            " 4   Customers      336222 non-null  float64\n",
            " 5   Open           336222 non-null  float64\n",
            " 6   Promo          336222 non-null  float64\n",
            " 7   StateHoliday   336222 non-null  object \n",
            " 8   SchoolHoliday  336222 non-null  float64\n",
            "dtypes: float64(5), int64(2), object(2)\n",
            "memory usage: 23.1+ MB\n"
          ]
        }
      ]
    },
    {
      "cell_type": "code",
      "metadata": {
        "colab": {
          "base_uri": "https://localhost:8080/"
        },
        "id": "1HSOHr3fOe-c",
        "outputId": "f284608f-cd3f-4775-946f-24004dbad4d7"
      },
      "source": [
        "#Checking Null Values\n",
        "rossman_df.isnull().sum()"
      ],
      "execution_count": 23,
      "outputs": [
        {
          "output_type": "execute_result",
          "data": {
            "text/plain": [
              "Store            0\n",
              "DayOfWeek        0\n",
              "Date             0\n",
              "Sales            1\n",
              "Customers        1\n",
              "Open             1\n",
              "Promo            1\n",
              "StateHoliday     1\n",
              "SchoolHoliday    1\n",
              "dtype: int64"
            ]
          },
          "metadata": {},
          "execution_count": 23
        }
      ]
    },
    {
      "cell_type": "markdown",
      "metadata": {
        "id": "jywkgMpNf0kH"
      },
      "source": [
        "**Summary Statastics Of Dataset**"
      ]
    },
    {
      "cell_type": "code",
      "metadata": {
        "colab": {
          "base_uri": "https://localhost:8080/",
          "height": 300
        },
        "id": "jl_NZLW2O3o1",
        "outputId": "0f1ac2f0-e00a-46bf-9db8-0f93521ecdf6"
      },
      "source": [
        "#Summary Statastics\n",
        "rossman_df.describe()"
      ],
      "execution_count": 24,
      "outputs": [
        {
          "output_type": "execute_result",
          "data": {
            "text/plain": [
              "               Store      DayOfWeek          Sales      Customers  \\\n",
              "count  336223.000000  336223.000000  336222.000000  336222.000000   \n",
              "mean      558.493054       3.996175    5970.511537     638.695817   \n",
              "std       321.849137       1.992095    3940.824148     466.432543   \n",
              "min         1.000000       1.000000       0.000000       0.000000   \n",
              "25%       281.000000       2.000000    3894.000000     415.000000   \n",
              "50%       558.000000       4.000000    5974.000000     617.000000   \n",
              "75%       838.000000       6.000000    8128.000000     843.000000   \n",
              "max      1115.000000       7.000000   41551.000000    5494.000000   \n",
              "\n",
              "                Open          Promo  SchoolHoliday  \n",
              "count  336222.000000  336222.000000  336222.000000  \n",
              "mean        0.829235       0.403638       0.154324  \n",
              "std         0.376304       0.490627       0.361259  \n",
              "min         0.000000       0.000000       0.000000  \n",
              "25%         1.000000       0.000000       0.000000  \n",
              "50%         1.000000       0.000000       0.000000  \n",
              "75%         1.000000       1.000000       0.000000  \n",
              "max         1.000000       1.000000       1.000000  "
            ],
            "text/html": [
              "\n",
              "  <div id=\"df-66d88278-b437-4e45-8000-9bcba22961db\">\n",
              "    <div class=\"colab-df-container\">\n",
              "      <div>\n",
              "<style scoped>\n",
              "    .dataframe tbody tr th:only-of-type {\n",
              "        vertical-align: middle;\n",
              "    }\n",
              "\n",
              "    .dataframe tbody tr th {\n",
              "        vertical-align: top;\n",
              "    }\n",
              "\n",
              "    .dataframe thead th {\n",
              "        text-align: right;\n",
              "    }\n",
              "</style>\n",
              "<table border=\"1\" class=\"dataframe\">\n",
              "  <thead>\n",
              "    <tr style=\"text-align: right;\">\n",
              "      <th></th>\n",
              "      <th>Store</th>\n",
              "      <th>DayOfWeek</th>\n",
              "      <th>Sales</th>\n",
              "      <th>Customers</th>\n",
              "      <th>Open</th>\n",
              "      <th>Promo</th>\n",
              "      <th>SchoolHoliday</th>\n",
              "    </tr>\n",
              "  </thead>\n",
              "  <tbody>\n",
              "    <tr>\n",
              "      <th>count</th>\n",
              "      <td>336223.000000</td>\n",
              "      <td>336223.000000</td>\n",
              "      <td>336222.000000</td>\n",
              "      <td>336222.000000</td>\n",
              "      <td>336222.000000</td>\n",
              "      <td>336222.000000</td>\n",
              "      <td>336222.000000</td>\n",
              "    </tr>\n",
              "    <tr>\n",
              "      <th>mean</th>\n",
              "      <td>558.493054</td>\n",
              "      <td>3.996175</td>\n",
              "      <td>5970.511537</td>\n",
              "      <td>638.695817</td>\n",
              "      <td>0.829235</td>\n",
              "      <td>0.403638</td>\n",
              "      <td>0.154324</td>\n",
              "    </tr>\n",
              "    <tr>\n",
              "      <th>std</th>\n",
              "      <td>321.849137</td>\n",
              "      <td>1.992095</td>\n",
              "      <td>3940.824148</td>\n",
              "      <td>466.432543</td>\n",
              "      <td>0.376304</td>\n",
              "      <td>0.490627</td>\n",
              "      <td>0.361259</td>\n",
              "    </tr>\n",
              "    <tr>\n",
              "      <th>min</th>\n",
              "      <td>1.000000</td>\n",
              "      <td>1.000000</td>\n",
              "      <td>0.000000</td>\n",
              "      <td>0.000000</td>\n",
              "      <td>0.000000</td>\n",
              "      <td>0.000000</td>\n",
              "      <td>0.000000</td>\n",
              "    </tr>\n",
              "    <tr>\n",
              "      <th>25%</th>\n",
              "      <td>281.000000</td>\n",
              "      <td>2.000000</td>\n",
              "      <td>3894.000000</td>\n",
              "      <td>415.000000</td>\n",
              "      <td>1.000000</td>\n",
              "      <td>0.000000</td>\n",
              "      <td>0.000000</td>\n",
              "    </tr>\n",
              "    <tr>\n",
              "      <th>50%</th>\n",
              "      <td>558.000000</td>\n",
              "      <td>4.000000</td>\n",
              "      <td>5974.000000</td>\n",
              "      <td>617.000000</td>\n",
              "      <td>1.000000</td>\n",
              "      <td>0.000000</td>\n",
              "      <td>0.000000</td>\n",
              "    </tr>\n",
              "    <tr>\n",
              "      <th>75%</th>\n",
              "      <td>838.000000</td>\n",
              "      <td>6.000000</td>\n",
              "      <td>8128.000000</td>\n",
              "      <td>843.000000</td>\n",
              "      <td>1.000000</td>\n",
              "      <td>1.000000</td>\n",
              "      <td>0.000000</td>\n",
              "    </tr>\n",
              "    <tr>\n",
              "      <th>max</th>\n",
              "      <td>1115.000000</td>\n",
              "      <td>7.000000</td>\n",
              "      <td>41551.000000</td>\n",
              "      <td>5494.000000</td>\n",
              "      <td>1.000000</td>\n",
              "      <td>1.000000</td>\n",
              "      <td>1.000000</td>\n",
              "    </tr>\n",
              "  </tbody>\n",
              "</table>\n",
              "</div>\n",
              "      <button class=\"colab-df-convert\" onclick=\"convertToInteractive('df-66d88278-b437-4e45-8000-9bcba22961db')\"\n",
              "              title=\"Convert this dataframe to an interactive table.\"\n",
              "              style=\"display:none;\">\n",
              "        \n",
              "  <svg xmlns=\"http://www.w3.org/2000/svg\" height=\"24px\"viewBox=\"0 0 24 24\"\n",
              "       width=\"24px\">\n",
              "    <path d=\"M0 0h24v24H0V0z\" fill=\"none\"/>\n",
              "    <path d=\"M18.56 5.44l.94 2.06.94-2.06 2.06-.94-2.06-.94-.94-2.06-.94 2.06-2.06.94zm-11 1L8.5 8.5l.94-2.06 2.06-.94-2.06-.94L8.5 2.5l-.94 2.06-2.06.94zm10 10l.94 2.06.94-2.06 2.06-.94-2.06-.94-.94-2.06-.94 2.06-2.06.94z\"/><path d=\"M17.41 7.96l-1.37-1.37c-.4-.4-.92-.59-1.43-.59-.52 0-1.04.2-1.43.59L10.3 9.45l-7.72 7.72c-.78.78-.78 2.05 0 2.83L4 21.41c.39.39.9.59 1.41.59.51 0 1.02-.2 1.41-.59l7.78-7.78 2.81-2.81c.8-.78.8-2.07 0-2.86zM5.41 20L4 18.59l7.72-7.72 1.47 1.35L5.41 20z\"/>\n",
              "  </svg>\n",
              "      </button>\n",
              "      \n",
              "  <style>\n",
              "    .colab-df-container {\n",
              "      display:flex;\n",
              "      flex-wrap:wrap;\n",
              "      gap: 12px;\n",
              "    }\n",
              "\n",
              "    .colab-df-convert {\n",
              "      background-color: #E8F0FE;\n",
              "      border: none;\n",
              "      border-radius: 50%;\n",
              "      cursor: pointer;\n",
              "      display: none;\n",
              "      fill: #1967D2;\n",
              "      height: 32px;\n",
              "      padding: 0 0 0 0;\n",
              "      width: 32px;\n",
              "    }\n",
              "\n",
              "    .colab-df-convert:hover {\n",
              "      background-color: #E2EBFA;\n",
              "      box-shadow: 0px 1px 2px rgba(60, 64, 67, 0.3), 0px 1px 3px 1px rgba(60, 64, 67, 0.15);\n",
              "      fill: #174EA6;\n",
              "    }\n",
              "\n",
              "    [theme=dark] .colab-df-convert {\n",
              "      background-color: #3B4455;\n",
              "      fill: #D2E3FC;\n",
              "    }\n",
              "\n",
              "    [theme=dark] .colab-df-convert:hover {\n",
              "      background-color: #434B5C;\n",
              "      box-shadow: 0px 1px 3px 1px rgba(0, 0, 0, 0.15);\n",
              "      filter: drop-shadow(0px 1px 2px rgba(0, 0, 0, 0.3));\n",
              "      fill: #FFFFFF;\n",
              "    }\n",
              "  </style>\n",
              "\n",
              "      <script>\n",
              "        const buttonEl =\n",
              "          document.querySelector('#df-66d88278-b437-4e45-8000-9bcba22961db button.colab-df-convert');\n",
              "        buttonEl.style.display =\n",
              "          google.colab.kernel.accessAllowed ? 'block' : 'none';\n",
              "\n",
              "        async function convertToInteractive(key) {\n",
              "          const element = document.querySelector('#df-66d88278-b437-4e45-8000-9bcba22961db');\n",
              "          const dataTable =\n",
              "            await google.colab.kernel.invokeFunction('convertToInteractive',\n",
              "                                                     [key], {});\n",
              "          if (!dataTable) return;\n",
              "\n",
              "          const docLinkHtml = 'Like what you see? Visit the ' +\n",
              "            '<a target=\"_blank\" href=https://colab.research.google.com/notebooks/data_table.ipynb>data table notebook</a>'\n",
              "            + ' to learn more about interactive tables.';\n",
              "          element.innerHTML = '';\n",
              "          dataTable['output_type'] = 'display_data';\n",
              "          await google.colab.output.renderOutput(dataTable, element);\n",
              "          const docLink = document.createElement('div');\n",
              "          docLink.innerHTML = docLinkHtml;\n",
              "          element.appendChild(docLink);\n",
              "        }\n",
              "      </script>\n",
              "    </div>\n",
              "  </div>\n",
              "  "
            ]
          },
          "metadata": {},
          "execution_count": 24
        }
      ]
    },
    {
      "cell_type": "code",
      "metadata": {
        "colab": {
          "base_uri": "https://localhost:8080/"
        },
        "id": "G6FuY2lJNb2t",
        "outputId": "788d2680-ac97-4cf4-96c3-653403d7b16b"
      },
      "source": [
        "#No. Of Stores in the Dataset\n",
        "rossman_df.Store.nunique()"
      ],
      "execution_count": 25,
      "outputs": [
        {
          "output_type": "execute_result",
          "data": {
            "text/plain": [
              "1115"
            ]
          },
          "metadata": {},
          "execution_count": 25
        }
      ]
    },
    {
      "cell_type": "code",
      "metadata": {
        "colab": {
          "base_uri": "https://localhost:8080/"
        },
        "id": "SmHx0197Xg3x",
        "outputId": "0428438d-f355-4932-dae4-9afa5ab9be07"
      },
      "source": [
        "# Value_counts of StateHoliday Column\n",
        "rossman_df.StateHoliday.value_counts()"
      ],
      "execution_count": 26,
      "outputs": [
        {
          "output_type": "execute_result",
          "data": {
            "text/plain": [
              "0    325047\n",
              "a      7075\n",
              "b      2230\n",
              "c      1870\n",
              "Name: StateHoliday, dtype: int64"
            ]
          },
          "metadata": {},
          "execution_count": 26
        }
      ]
    },
    {
      "cell_type": "code",
      "metadata": {
        "colab": {
          "base_uri": "https://localhost:8080/"
        },
        "id": "1P5KFGCJJHko",
        "outputId": "b3f00d9b-c0c6-4eb7-afb6-e105fddc5333"
      },
      "source": [
        "print(rossman_df['Date'].min(),'initial')\n",
        "print(rossman_df['Date'].max(),'final')"
      ],
      "execution_count": 27,
      "outputs": [
        {
          "output_type": "stream",
          "name": "stdout",
          "text": [
            "2014-09-1 initial\n",
            "2015-07-31 final\n"
          ]
        }
      ]
    },
    {
      "cell_type": "markdown",
      "metadata": {
        "id": "rgL5F8IYJL1C"
      },
      "source": [
        "**This tells us we have a data of almost 3 years.**"
      ]
    },
    {
      "cell_type": "code",
      "metadata": {
        "id": "gT0VvBh3jRmW"
      },
      "source": [
        "# extract year, month, day and week of year from \"Date\"\n",
        "\n",
        "rossman_df['Date']=pd.to_datetime(rossman_df['Date'])\n",
        "rossman_df['Year'] = rossman_df['Date'].apply(lambda x: x.year)\n",
        "rossman_df['Month'] = rossman_df['Date'].apply(lambda x: x.month)\n",
        "rossman_df['Day'] = rossman_df['Date'].apply(lambda x: x.day)\n",
        "rossman_df['WeekOfYear'] = rossman_df['Date'].apply(lambda x: x.weekofyear)"
      ],
      "execution_count": 28,
      "outputs": []
    },
    {
      "cell_type": "code",
      "metadata": {
        "id": "qOG5jyEekfz2",
        "colab": {
          "base_uri": "https://localhost:8080/",
          "height": 112
        },
        "outputId": "bd6a8fc5-1115-4866-ec8b-d7d841511a7e"
      },
      "source": [
        "rossman_df.sort_values(by=['Date','Store'],inplace=True,ascending=[False,True])\n",
        "rossman_df.head(2)"
      ],
      "execution_count": 29,
      "outputs": [
        {
          "output_type": "execute_result",
          "data": {
            "text/plain": [
              "   Store  DayOfWeek       Date   Sales  Customers  Open  Promo StateHoliday  \\\n",
              "0      1          5 2015-07-31  5263.0      555.0   1.0    1.0            0   \n",
              "1      2          5 2015-07-31  6064.0      625.0   1.0    1.0            0   \n",
              "\n",
              "   SchoolHoliday  Year  Month  Day  WeekOfYear  \n",
              "0            1.0  2015      7   31          31  \n",
              "1            1.0  2015      7   31          31  "
            ],
            "text/html": [
              "\n",
              "  <div id=\"df-5f25656f-e4d2-41cb-9390-426cecbf96aa\">\n",
              "    <div class=\"colab-df-container\">\n",
              "      <div>\n",
              "<style scoped>\n",
              "    .dataframe tbody tr th:only-of-type {\n",
              "        vertical-align: middle;\n",
              "    }\n",
              "\n",
              "    .dataframe tbody tr th {\n",
              "        vertical-align: top;\n",
              "    }\n",
              "\n",
              "    .dataframe thead th {\n",
              "        text-align: right;\n",
              "    }\n",
              "</style>\n",
              "<table border=\"1\" class=\"dataframe\">\n",
              "  <thead>\n",
              "    <tr style=\"text-align: right;\">\n",
              "      <th></th>\n",
              "      <th>Store</th>\n",
              "      <th>DayOfWeek</th>\n",
              "      <th>Date</th>\n",
              "      <th>Sales</th>\n",
              "      <th>Customers</th>\n",
              "      <th>Open</th>\n",
              "      <th>Promo</th>\n",
              "      <th>StateHoliday</th>\n",
              "      <th>SchoolHoliday</th>\n",
              "      <th>Year</th>\n",
              "      <th>Month</th>\n",
              "      <th>Day</th>\n",
              "      <th>WeekOfYear</th>\n",
              "    </tr>\n",
              "  </thead>\n",
              "  <tbody>\n",
              "    <tr>\n",
              "      <th>0</th>\n",
              "      <td>1</td>\n",
              "      <td>5</td>\n",
              "      <td>2015-07-31</td>\n",
              "      <td>5263.0</td>\n",
              "      <td>555.0</td>\n",
              "      <td>1.0</td>\n",
              "      <td>1.0</td>\n",
              "      <td>0</td>\n",
              "      <td>1.0</td>\n",
              "      <td>2015</td>\n",
              "      <td>7</td>\n",
              "      <td>31</td>\n",
              "      <td>31</td>\n",
              "    </tr>\n",
              "    <tr>\n",
              "      <th>1</th>\n",
              "      <td>2</td>\n",
              "      <td>5</td>\n",
              "      <td>2015-07-31</td>\n",
              "      <td>6064.0</td>\n",
              "      <td>625.0</td>\n",
              "      <td>1.0</td>\n",
              "      <td>1.0</td>\n",
              "      <td>0</td>\n",
              "      <td>1.0</td>\n",
              "      <td>2015</td>\n",
              "      <td>7</td>\n",
              "      <td>31</td>\n",
              "      <td>31</td>\n",
              "    </tr>\n",
              "  </tbody>\n",
              "</table>\n",
              "</div>\n",
              "      <button class=\"colab-df-convert\" onclick=\"convertToInteractive('df-5f25656f-e4d2-41cb-9390-426cecbf96aa')\"\n",
              "              title=\"Convert this dataframe to an interactive table.\"\n",
              "              style=\"display:none;\">\n",
              "        \n",
              "  <svg xmlns=\"http://www.w3.org/2000/svg\" height=\"24px\"viewBox=\"0 0 24 24\"\n",
              "       width=\"24px\">\n",
              "    <path d=\"M0 0h24v24H0V0z\" fill=\"none\"/>\n",
              "    <path d=\"M18.56 5.44l.94 2.06.94-2.06 2.06-.94-2.06-.94-.94-2.06-.94 2.06-2.06.94zm-11 1L8.5 8.5l.94-2.06 2.06-.94-2.06-.94L8.5 2.5l-.94 2.06-2.06.94zm10 10l.94 2.06.94-2.06 2.06-.94-2.06-.94-.94-2.06-.94 2.06-2.06.94z\"/><path d=\"M17.41 7.96l-1.37-1.37c-.4-.4-.92-.59-1.43-.59-.52 0-1.04.2-1.43.59L10.3 9.45l-7.72 7.72c-.78.78-.78 2.05 0 2.83L4 21.41c.39.39.9.59 1.41.59.51 0 1.02-.2 1.41-.59l7.78-7.78 2.81-2.81c.8-.78.8-2.07 0-2.86zM5.41 20L4 18.59l7.72-7.72 1.47 1.35L5.41 20z\"/>\n",
              "  </svg>\n",
              "      </button>\n",
              "      \n",
              "  <style>\n",
              "    .colab-df-container {\n",
              "      display:flex;\n",
              "      flex-wrap:wrap;\n",
              "      gap: 12px;\n",
              "    }\n",
              "\n",
              "    .colab-df-convert {\n",
              "      background-color: #E8F0FE;\n",
              "      border: none;\n",
              "      border-radius: 50%;\n",
              "      cursor: pointer;\n",
              "      display: none;\n",
              "      fill: #1967D2;\n",
              "      height: 32px;\n",
              "      padding: 0 0 0 0;\n",
              "      width: 32px;\n",
              "    }\n",
              "\n",
              "    .colab-df-convert:hover {\n",
              "      background-color: #E2EBFA;\n",
              "      box-shadow: 0px 1px 2px rgba(60, 64, 67, 0.3), 0px 1px 3px 1px rgba(60, 64, 67, 0.15);\n",
              "      fill: #174EA6;\n",
              "    }\n",
              "\n",
              "    [theme=dark] .colab-df-convert {\n",
              "      background-color: #3B4455;\n",
              "      fill: #D2E3FC;\n",
              "    }\n",
              "\n",
              "    [theme=dark] .colab-df-convert:hover {\n",
              "      background-color: #434B5C;\n",
              "      box-shadow: 0px 1px 3px 1px rgba(0, 0, 0, 0.15);\n",
              "      filter: drop-shadow(0px 1px 2px rgba(0, 0, 0, 0.3));\n",
              "      fill: #FFFFFF;\n",
              "    }\n",
              "  </style>\n",
              "\n",
              "      <script>\n",
              "        const buttonEl =\n",
              "          document.querySelector('#df-5f25656f-e4d2-41cb-9390-426cecbf96aa button.colab-df-convert');\n",
              "        buttonEl.style.display =\n",
              "          google.colab.kernel.accessAllowed ? 'block' : 'none';\n",
              "\n",
              "        async function convertToInteractive(key) {\n",
              "          const element = document.querySelector('#df-5f25656f-e4d2-41cb-9390-426cecbf96aa');\n",
              "          const dataTable =\n",
              "            await google.colab.kernel.invokeFunction('convertToInteractive',\n",
              "                                                     [key], {});\n",
              "          if (!dataTable) return;\n",
              "\n",
              "          const docLinkHtml = 'Like what you see? Visit the ' +\n",
              "            '<a target=\"_blank\" href=https://colab.research.google.com/notebooks/data_table.ipynb>data table notebook</a>'\n",
              "            + ' to learn more about interactive tables.';\n",
              "          element.innerHTML = '';\n",
              "          dataTable['output_type'] = 'display_data';\n",
              "          await google.colab.output.renderOutput(dataTable, element);\n",
              "          const docLink = document.createElement('div');\n",
              "          docLink.innerHTML = docLinkHtml;\n",
              "          element.appendChild(docLink);\n",
              "        }\n",
              "      </script>\n",
              "    </div>\n",
              "  </div>\n",
              "  "
            ]
          },
          "metadata": {},
          "execution_count": 29
        }
      ]
    },
    {
      "cell_type": "markdown",
      "metadata": {
        "id": "HrXAJaO82ta8"
      },
      "source": [
        "## **EDA On Rossman Dataset**"
      ]
    },
    {
      "cell_type": "markdown",
      "metadata": {
        "id": "1NzlEhTngTQs"
      },
      "source": [
        "#### **Heatmap of the Rossman Dataset**"
      ]
    },
    {
      "cell_type": "code",
      "metadata": {
        "id": "cmn_ykcZmVE3",
        "colab": {
          "base_uri": "https://localhost:8080/",
          "height": 572
        },
        "outputId": "c50c8c5d-283c-494e-9ec1-ed25f702f35b"
      },
      "source": [
        "correlation_map = rossman_df[rossman_df.columns].corr()\n",
        "obj = np.array(correlation_map)\n",
        "obj[np.tril_indices_from(obj)] = False\n",
        "fig,ax= plt.subplots()\n",
        "fig.set_size_inches(9,9)\n",
        "sns.heatmap(correlation_map, mask=obj,vmax=.7, square=True,annot=True)"
      ],
      "execution_count": 30,
      "outputs": [
        {
          "output_type": "execute_result",
          "data": {
            "text/plain": [
              "<matplotlib.axes._subplots.AxesSubplot at 0x7fcea2e89e20>"
            ]
          },
          "metadata": {},
          "execution_count": 30
        },
        {
          "output_type": "display_data",
          "data": {
            "text/plain": [
              "<Figure size 648x648 with 2 Axes>"
            ],
            "image/png": "[encoded data removed]"
          },
          "metadata": {}
        }
      ]
    },
    {
      "cell_type": "markdown",
      "metadata": {
        "id": "aM0217Iigvn0"
      },
      "source": [
        "**As we can see that in the graph given below that Stores mainly closed on Sunday**"
      ]
    },
    {
      "cell_type": "code",
      "metadata": {
        "id": "UdinNgC2Xguu",
        "colab": {
          "base_uri": "https://localhost:8080/",
          "height": 409
        },
        "outputId": "001f8702-521e-4ed4-8af4-e4a2c41bde2a"
      },
      "source": [
        "sns.countplot(x='DayOfWeek',hue='Open',data=rossman_df)"
      ],
      "execution_count": 31,
      "outputs": [
        {
          "output_type": "execute_result",
          "data": {
            "text/plain": [
              "<matplotlib.axes._subplots.AxesSubplot at 0x7fcea1e822e0>"
            ]
          },
          "metadata": {},
          "execution_count": 31
        },
        {
          "output_type": "display_data",
          "data": {
            "text/plain": [
              "<Figure size 576x432 with 1 Axes>"
            ],
            "image/png": "[encoded data removed]"
          },
          "metadata": {}
        }
      ]
    },
    {
      "cell_type": "markdown",
      "metadata": {
        "id": "JKl9ZAApLOYK"
      },
      "source": [
        "**Sales Are nearly doubled High When Promo is Running**"
      ]
    },
    {
      "cell_type": "code",
      "metadata": {
        "colab": {
          "base_uri": "https://localhost:8080/",
          "height": 409
        },
        "id": "gR12JRKqLKD-",
        "outputId": "de2c36d6-3f6a-4eec-afc7-8919316296a6"
      },
      "source": [
        "#Impact of promo on sales\n",
        "Promo_sales = pd.DataFrame(rossman_df.groupby('Promo').agg({'Sales':'mean'}))\n",
        "sns.barplot(x=Promo_sales.index, y = Promo_sales['Sales'])"
      ],
      "execution_count": 32,
      "outputs": [
        {
          "output_type": "execute_result",
          "data": {
            "text/plain": [
              "<matplotlib.axes._subplots.AxesSubplot at 0x7fcea2f98fa0>"
            ]
          },
          "metadata": {},
          "execution_count": 32
        },
        {
          "output_type": "display_data",
          "data": {
            "text/plain": [
              "<Figure size 576x432 with 1 Axes>"
            ],
            "image/png": "[encoded data removed]"
          },
          "metadata": {}
        }
      ]
    },
    {
      "cell_type": "markdown",
      "metadata": {
        "id": "NE20Ui50hO0Z"
      },
      "source": [
        "**As We can see that In the month of November and Specially in December Sales is increasing Rapidly every year on the christmas eve.**"
      ]
    },
    {
      "cell_type": "code",
      "metadata": {
        "id": "iM2ChGCojRV_",
        "colab": {
          "base_uri": "https://localhost:8080/",
          "height": 774
        },
        "outputId": "9cda7bec-bf61-4359-9a60-25b0c78acbfb"
      },
      "source": [
        "sns.factorplot(x=\"Month\" ,y = \"Sales\" , data=rossman_df, kind=\"point\", aspect=2,size=10)"
      ],
      "execution_count": 33,
      "outputs": [
        {
          "output_type": "stream",
          "name": "stderr",
          "text": [
            "/usr/local/lib/python3.8/dist-packages/seaborn/categorical.py:3717: UserWarning: The `factorplot` function has been renamed to `catplot`. The original name will be removed in a future release. Please update your code. Note that the default `kind` in `factorplot` (`'point'`) has changed `'strip'` in `catplot`.\n",
            "  warnings.warn(msg)\n",
            "/usr/local/lib/python3.8/dist-packages/seaborn/categorical.py:3723: UserWarning: The `size` parameter has been renamed to `height`; please update your code.\n",
            "  warnings.warn(msg, UserWarning)\n"
          ]
        },
        {
          "output_type": "execute_result",
          "data": {
            "text/plain": [
              "<seaborn.axisgrid.FacetGrid at 0x7fcea149d970>"
            ]
          },
          "metadata": {},
          "execution_count": 33
        },
        {
          "output_type": "display_data",
          "data": {
            "text/plain": [
              "<Figure size 1440x720 with 1 Axes>"
            ],
            "image/png": "[encoded data removed]"
          },
          "metadata": {}
        }
      ]
    },
    {
      "cell_type": "code",
      "metadata": {
        "id": "mHxknadkrsb5",
        "colab": {
          "base_uri": "https://localhost:8080/"
        },
        "outputId": "d79ae991-9584-4a21-e5f8-e0f8a50800e4"
      },
      "source": [
        "# Value Counts of SchoolHoliday Column\n",
        "rossman_df.SchoolHoliday.value_counts()"
      ],
      "execution_count": 34,
      "outputs": [
        {
          "output_type": "execute_result",
          "data": {
            "text/plain": [
              "0.0    284335\n",
              "1.0     51887\n",
              "Name: SchoolHoliday, dtype: int64"
            ]
          },
          "metadata": {},
          "execution_count": 34
        }
      ]
    },
    {
      "cell_type": "markdown",
      "metadata": {
        "id": "IhyjXxKEhfXM"
      },
      "source": [
        "**As we can see in the Piechart Sales affected by School Holiday is 18% and Mainly Sales aren't afffected by School Holiday**"
      ]
    },
    {
      "cell_type": "code",
      "metadata": {
        "id": "9RWq8u1srs4Q",
        "colab": {
          "base_uri": "https://localhost:8080/",
          "height": 378
        },
        "outputId": "1287fd82-cdd0-4883-94fd-9fd3b07edf9a"
      },
      "source": [
        "labels = 'Not-Affected' , 'Affected'\n",
        "sizes = rossman_df.SchoolHoliday.value_counts()\n",
        "colors = ['gold', 'silver']\n",
        "explode = (0.1, 0.0)\n",
        "plt.pie(sizes, explode=explode, labels=labels, colors=colors,\n",
        "        autopct='%1.1f%%', shadow=True, startangle=180)\n",
        "plt.axis('equal')\n",
        "plt.title(\"Sales Affected by Schoolholiday or Not ?\",fontsize=20)\n",
        "plt.plot()\n",
        "fig=plt.gcf()\n",
        "fig.set_size_inches(6,6)\n",
        "plt.show()\n"
      ],
      "execution_count": 35,
      "outputs": [
        {
          "output_type": "display_data",
          "data": {
            "text/plain": [
              "<Figure size 432x432 with 1 Axes>"
            ],
            "image/png": "[encoded data removed]"
          },
          "metadata": {}
        }
      ]
    },
    {
      "cell_type": "markdown",
      "metadata": {
        "id": "kIqnxFXN1Zcj"
      },
      "source": [
        "### **Transforming Variable StateHoliday**"
      ]
    },
    {
      "cell_type": "code",
      "metadata": {
        "id": "c4120SC6rtND"
      },
      "source": [
        "rossman_df[\"StateHoliday\"] = rossman_df[\"StateHoliday\"].map({0: 0, \"0\": 0, \"a\": 1, \"b\": 1, \"c\": 1})"
      ],
      "execution_count": 36,
      "outputs": []
    },
    {
      "cell_type": "code",
      "metadata": {
        "id": "vIO18L2SxLu0",
        "colab": {
          "base_uri": "https://localhost:8080/"
        },
        "outputId": "561e967e-1068-4ec5-9849-bce06b842c05"
      },
      "source": [
        "rossman_df.StateHoliday.value_counts()"
      ],
      "execution_count": 37,
      "outputs": [
        {
          "output_type": "execute_result",
          "data": {
            "text/plain": [
              "0.0    325047\n",
              "1.0     11175\n",
              "Name: StateHoliday, dtype: int64"
            ]
          },
          "metadata": {},
          "execution_count": 37
        }
      ]
    },
    {
      "cell_type": "markdown",
      "metadata": {
        "id": "iLkGPSoJibKO"
      },
      "source": [
        "**As we can see in the Piechart Sales affected by State Holiday is only 3% means Sales aren't afffected by State Holiday**"
      ]
    },
    {
      "cell_type": "code",
      "metadata": {
        "id": "SrGHoGL4xLsk",
        "colab": {
          "base_uri": "https://localhost:8080/",
          "height": 378
        },
        "outputId": "7332f0c3-f1d6-4cff-e424-e6d381f27668"
      },
      "source": [
        "labels = 'Not-Affected' , 'Affected'\n",
        "sizes = rossman_df.StateHoliday.value_counts()\n",
        "colors = ['orange','green']\n",
        "explode = (0.1, 0.0)\n",
        "plt.pie(sizes, explode=explode, labels=labels, colors=colors,\n",
        "        autopct='%1.1f%%', shadow=True, startangle=180)\n",
        "plt.axis('equal')\n",
        "plt.title(\"Sales Affected by State holiday or Not ?\",fontsize=20)\n",
        "plt.plot()\n",
        "fig=plt.gcf()\n",
        "fig.set_size_inches(6,6)\n",
        "plt.show()"
      ],
      "execution_count": 38,
      "outputs": [
        {
          "output_type": "display_data",
          "data": {
            "text/plain": [
              "<Figure size 432x432 with 1 Axes>"
            ],
            "image/png": "[encoded data removed]"
          },
          "metadata": {}
        }
      ]
    },
    {
      "cell_type": "markdown",
      "metadata": {
        "id": "mHngnqHUalxd"
      },
      "source": [
        "**As Sales isn't much affected by State Holiday so i'm removing this column**"
      ]
    },
    {
      "cell_type": "code",
      "metadata": {
        "id": "3lJhqIddakt7"
      },
      "source": [
        "rossman_df.drop('StateHoliday',inplace=True,axis=1)"
      ],
      "execution_count": 39,
      "outputs": []
    },
    {
      "cell_type": "markdown",
      "metadata": {
        "id": "OQI_7nUHjGUU"
      },
      "source": [
        "**Histogram Representation of Sales. Here 0 is showing because most of the time store was closed.**"
      ]
    },
    {
      "cell_type": "code",
      "metadata": {
        "colab": {
          "base_uri": "https://localhost:8080/",
          "height": 503
        },
        "id": "XLSZsw_hnWyF",
        "outputId": "8fc090b3-f1f1-4b00-bd47-aee23a4f99bd"
      },
      "source": [
        "#distribution of sales\n",
        "fig, ax = plt.subplots()\n",
        "fig.set_size_inches(11, 7)\n",
        "sns.distplot(rossman_df['Sales'], kde = False,bins=40);"
      ],
      "execution_count": 40,
      "outputs": [
        {
          "output_type": "stream",
          "name": "stderr",
          "text": [
            "/usr/local/lib/python3.8/dist-packages/seaborn/distributions.py:2619: FutureWarning: `distplot` is a deprecated function and will be removed in a future version. Please adapt your code to use either `displot` (a figure-level function with similar flexibility) or `histplot` (an axes-level function for histograms).\n",
            "  warnings.warn(msg, FutureWarning)\n"
          ]
        },
        {
          "output_type": "display_data",
          "data": {
            "text/plain": [
              "<Figure size 792x504 with 1 Axes>"
            ],
            "image/png": "[encoded data removed]"
          },
          "metadata": {}
        }
      ]
    },
    {
      "cell_type": "markdown",
      "metadata": {
        "id": "eeeZgqAkkhtD"
      },
      "source": [
        "**Sales vs Customers**"
      ]
    },
    {
      "cell_type": "code",
      "metadata": {
        "id": "39PNUSyMidp0"
      },
      "source": [
        "#linear relation between sales and customers\n",
        "sns.lmplot(x= 'Sales' , y ='Customers',data=rossman_df, palette='seismic', height=5,aspect=1, line_kws={'color':'blue'});"
      ],
      "execution_count": null,
      "outputs": []
    },
    {
      "cell_type": "markdown",
      "metadata": {
        "id": "z1f1mvT5Sol_"
      },
      "source": [
        "## **Analysing the Store Dataset**"
      ]
    },
    {
      "cell_type": "code",
      "metadata": {
        "id": "v3xgxjQERlF-"
      },
      "source": [
        "store_df.head(5)"
      ],
      "execution_count": null,
      "outputs": []
    },
    {
      "cell_type": "code",
      "metadata": {
        "id": "K5hSmm0hfPDI"
      },
      "source": [
        "store_df.tail()"
      ],
      "execution_count": null,
      "outputs": []
    },
    {
      "cell_type": "markdown",
      "metadata": {
        "id": "tl27X8rAfXqN"
      },
      "source": [
        "##### **Checking Information about Dataset**"
      ]
    },
    {
      "cell_type": "code",
      "metadata": {
        "id": "sBgGQih_RycA"
      },
      "source": [
        "store_df.shape"
      ],
      "execution_count": null,
      "outputs": []
    },
    {
      "cell_type": "code",
      "metadata": {
        "id": "vO1jpkXIPD51"
      },
      "source": [
        "#Checking info of data as data types and rows and cols\n",
        "store_df.info()"
      ],
      "execution_count": null,
      "outputs": []
    },
    {
      "cell_type": "code",
      "metadata": {
        "id": "U8MxclyJYm75"
      },
      "source": [
        "#Checking Null Values\n",
        "store_df.isnull().sum()"
      ],
      "execution_count": null,
      "outputs": []
    },
    {
      "cell_type": "markdown",
      "metadata": {
        "id": "rdfgh-oYnjIi"
      },
      "source": [
        "**Heatmap for null values**"
      ]
    },
    {
      "cell_type": "code",
      "metadata": {
        "id": "prgXcLcnlz-S"
      },
      "source": [
        "# creating heatmap for null values\n",
        "plt.figure(figsize=(10,6))\n",
        "sns.heatmap(store_df.isnull(),yticklabels= False, cbar= False, cmap= 'gnuplot')"
      ],
      "execution_count": null,
      "outputs": []
    },
    {
      "cell_type": "markdown",
      "metadata": {
        "id": "NwwX67Ykez9x"
      },
      "source": [
        "**Distribution Of Different Store Types**"
      ]
    },
    {
      "cell_type": "code",
      "metadata": {
        "id": "7K7UvASDZN9R"
      },
      "source": [
        "labels = 'a' , 'b' , 'c' , 'd'\n",
        "sizes = store_df.StoreType.value_counts()\n",
        "colors = ['orange', 'green' , 'red' , 'pink']\n",
        "explode = (0.1, 0.0 , 0.15 , 0.0)\n",
        "plt.pie(sizes, explode=explode, labels=labels, colors=colors,\n",
        "        autopct='%1.1f%%', shadow=True, startangle=180)\n",
        "plt.axis('equal')\n",
        "plt.title(\"Distribution of different StoreTypes\")\n",
        "plt.plot()\n",
        "fig=plt.gcf()\n",
        "fig.set_size_inches(6,6)\n",
        "plt.show()\n"
      ],
      "execution_count": null,
      "outputs": []
    },
    {
      "cell_type": "markdown",
      "metadata": {
        "id": "SCXOEw9tr430"
      },
      "source": [
        "### **Remove features with high percentages of missing values**\n",
        "\n",
        "#### **we can see that some features have a high percentage of missing values and they won't be accurate as indicators, so we will remove features with more than 30% missing values.**"
      ]
    },
    {
      "cell_type": "code",
      "metadata": {
        "id": "LgE9svisr0uV"
      },
      "source": [
        "# remove features\n",
        "store_df = store_df.drop(['CompetitionOpenSinceMonth', 'CompetitionOpenSinceYear','Promo2SinceWeek',\n",
        "                     'Promo2SinceYear', 'PromoInterval'], axis=1)"
      ],
      "execution_count": null,
      "outputs": []
    },
    {
      "cell_type": "markdown",
      "metadata": {
        "id": "LI4OLuetsoGF"
      },
      "source": [
        "#### **Replace missing values in features with low percentages of missing values**"
      ]
    },
    {
      "cell_type": "code",
      "metadata": {
        "id": "Ee-opiXMr0qi"
      },
      "source": [
        "# CompetitionDistance is distance in meters to the nearest competitor store\n",
        "# let's first have a look at its distribution\n",
        "\n",
        "sns.distplot(store_df.CompetitionDistance.dropna())\n",
        "plt.title(\"Distributin of Store Competition Distance\")"
      ],
      "execution_count": null,
      "outputs": []
    },
    {
      "cell_type": "markdown",
      "metadata": {
        "id": "SYq5HrMjs3VM"
      },
      "source": [
        "#### **The distribution is right skewed, so we'll replace missing values with the median.**"
      ]
    },
    {
      "cell_type": "code",
      "metadata": {
        "id": "NMy8F44Or0oa"
      },
      "source": [
        "# replace missing values in CompetitionDistance with median for the store dataset\n",
        "\n",
        "store_df.CompetitionDistance.fillna(store_df.CompetitionDistance.median(), inplace=True)"
      ],
      "execution_count": null,
      "outputs": []
    },
    {
      "cell_type": "markdown",
      "metadata": {
        "id": "_Q1qxZdgm36I"
      },
      "source": [
        "**Pairplot for Store Dataset**"
      ]
    },
    {
      "cell_type": "code",
      "metadata": {
        "id": "BR11j2jtmHyr"
      },
      "source": [
        "#pairplot for store dataset\n",
        "sns.set_style(\"whitegrid\", {'axes.grid' : False})\n",
        "pp=sns.pairplot(store_df,hue='StoreType')\n",
        "pp.fig.set_size_inches(10,10);"
      ],
      "execution_count": null,
      "outputs": []
    },
    {
      "cell_type": "markdown",
      "metadata": {
        "id": "f4ox0SChnChr"
      },
      "source": [
        "**Checking stores with their assortment type**"
      ]
    },
    {
      "cell_type": "code",
      "metadata": {
        "id": "UKiAla3zmgO5"
      },
      "source": [
        "#checking stores with their assortment type \n",
        "sns.set_style(\"whitegrid\")\n",
        "fig, ax = plt.subplots()\n",
        "fig.set_size_inches(11, 7)\n",
        "store_type=sns.countplot(x='StoreType',hue='Assortment', data=store_df,palette=\"inferno\")\n",
        "\n",
        "for p in store_type.patches:\n",
        "    store_type.annotate(f'\\n{p.get_height()}', (p.get_x()+0.15, p.get_height()),ha='center', va='top', color='white', size=10)"
      ],
      "execution_count": null,
      "outputs": []
    },
    {
      "cell_type": "markdown",
      "metadata": {
        "id": "9ba7EunKrIGO"
      },
      "source": [
        "***We can see that there is not such significant differences in these 3 years in terms of sales.*** "
      ]
    },
    {
      "cell_type": "code",
      "metadata": {
        "id": "R8tkiNSlqu95"
      },
      "source": [
        "#plotting year vs sales\n",
        "sns.catplot(x='Year',y='Sales',data=rossman_df, height=4, aspect=4 );"
      ],
      "execution_count": null,
      "outputs": []
    },
    {
      "cell_type": "markdown",
      "metadata": {
        "id": "5U1osczttP7H"
      },
      "source": [
        "### **Merging Two Datasets**"
      ]
    },
    {
      "cell_type": "code",
      "metadata": {
        "id": "NQwC-Snzr0nA"
      },
      "source": [
        "df = pd.merge(rossman_df, store_df, how='left', on='Store')\n",
        "df.head()"
      ],
      "execution_count": null,
      "outputs": []
    },
    {
      "cell_type": "code",
      "metadata": {
        "id": "bXKVMljsr0el"
      },
      "source": [
        "df.shape"
      ],
      "execution_count": null,
      "outputs": []
    },
    {
      "cell_type": "markdown",
      "metadata": {
        "id": "R6983LVj23Ci"
      },
      "source": [
        "## **EDA On Merged Dataset**"
      ]
    },
    {
      "cell_type": "markdown",
      "metadata": {
        "id": "mEbfG2LmAkfb"
      },
      "source": [
        "#### **Heatmap Of Merged Dataset**"
      ]
    },
    {
      "cell_type": "code",
      "metadata": {
        "id": "-_7OrUokAh1U"
      },
      "source": [
        "plt.subplots(figsize=(20,12))\n",
        "sns.heatmap(df.corr().abs(), annot=True)\n",
        "plt.savefig(\"heatmap.png\")\n",
        "\n",
        "from google.colab import files\n",
        "files.download('heatmap.png') # this line opens your documents in your pc to save your png"
      ],
      "execution_count": null,
      "outputs": []
    },
    {
      "cell_type": "code",
      "metadata": {
        "id": "KKoT5O1VHpB1"
      },
      "source": [
        "df[\"Avg_Customer_Sales\"] = df.Sales/df.Customers"
      ],
      "execution_count": null,
      "outputs": []
    },
    {
      "cell_type": "code",
      "metadata": {
        "id": "yEKPEZqaHo9A"
      },
      "source": [
        "f, ax = plt.subplots(2, 3, figsize = (20,10))\n",
        "\n",
        "store_df.groupby(\"StoreType\")[\"Store\"].count().plot(kind = \"bar\", ax = ax[0, 0], title = \"Total StoreTypes in the Dataset\")\n",
        "df.groupby(\"StoreType\")[\"Sales\"].sum().plot(kind = \"bar\", ax = ax[0,1], title = \"Total Sales of the StoreTypes\")\n",
        "df.groupby(\"StoreType\")[\"Customers\"].sum().plot(kind = \"bar\", ax = ax[0,2], title = \"Total nr Customers of the StoreTypes\")\n",
        "df.groupby(\"StoreType\")[\"Sales\"].mean().plot(kind = \"bar\", ax = ax[1,0], title = \"Average Sales of StoreTypes\")\n",
        "df.groupby(\"StoreType\")[\"Avg_Customer_Sales\"].mean().plot(kind = \"bar\", ax = ax[1,1], title = \"Average Spending per Customer\")\n",
        "df.groupby(\"StoreType\")[\"Customers\"].mean().plot(kind = \"bar\", ax = ax[1,2], title = \"Average Customers per StoreType\")\n",
        "\n",
        "plt.subplots_adjust(hspace = 0.3)\n",
        "plt.show()"
      ],
      "execution_count": null,
      "outputs": []
    },
    {
      "cell_type": "markdown",
      "metadata": {
        "id": "Uo2VOB8uNljq"
      },
      "source": [
        "**As we can see from the graphs, the StoreType A has the most stores, sales and customers. However the StoreType D has the best averages spendings per customers. StoreType B, with only 17 stores has the most average customers.**"
      ]
    },
    {
      "cell_type": "markdown",
      "metadata": {
        "id": "1c55dSeCOGdE"
      },
      "source": [
        "#### **Lets go ahead with the promotions**"
      ]
    },
    {
      "cell_type": "code",
      "metadata": {
        "id": "576dJK2RIb8k"
      },
      "source": [
        "sns.factorplot(data = df, x =\"Month\", y = \"Sales\", \n",
        "               col = 'Promo', # per store type in cols\n",
        "               hue = 'Promo2',\n",
        "               row = \"Year\"\n",
        "             )\n",
        "# So, of course, if the stores are having promotion the sells are higher.\n",
        "# Overall the store promotions sellings are also higher than the seasionality promotions (Promo2). However I can't see no yearly trend. "
      ],
      "execution_count": null,
      "outputs": []
    },
    {
      "cell_type": "markdown",
      "metadata": {
        "id": "UYSH-upxmkni"
      },
      "source": [
        "**As We can see that when the promo is running Sales are high**"
      ]
    },
    {
      "cell_type": "code",
      "metadata": {
        "id": "_YexE3ZqIb60"
      },
      "source": [
        "sns.factorplot(data = df, x = \"DayOfWeek\", y = \"Sales\", hue = \"Promo\")"
      ],
      "execution_count": null,
      "outputs": []
    },
    {
      "cell_type": "code",
      "metadata": {
        "id": "vlAmkzNsIbw2"
      },
      "source": [
        "print(\"\"\"So, no promotion in the weekend. However, the sales are very high, if the stores have promotion. \n",
        "The Sales are going crazy on Sunday. No wonder.\"\"\")\n",
        "print(\"There are\", df[(df.Open == 1) & (df.DayOfWeek == 7)].Store.unique().shape[0], \"stores opend on sundays\")    "
      ],
      "execution_count": null,
      "outputs": []
    },
    {
      "cell_type": "markdown",
      "metadata": {
        "id": "1zltERjwOWCI"
      },
      "source": [
        "**Let's see the trends on a yearly basis.**"
      ]
    },
    {
      "cell_type": "code",
      "metadata": {
        "id": "CjCWAwAtIjBK"
      },
      "source": [
        "sns.factorplot(data = df, x = \"Month\", y = \"Sales\", col = \"Year\", hue = \"StoreType\")\n",
        "# Yes, we can see a seasonalities, but not trends. The sales stays constantly yearly. "
      ],
      "execution_count": null,
      "outputs": []
    },
    {
      "cell_type": "markdown",
      "metadata": {
        "id": "6I6kWJf0OjNv"
      },
      "source": [
        "**What about the Competition Distance. What kind of inpact does this have on the sales.**"
      ]
    },
    {
      "cell_type": "code",
      "metadata": {
        "id": "LE52IuDzIi8R"
      },
      "source": [
        "df.CompetitionDistance.describe()\n",
        "# The obsverations are continous numbers, so we need to convert them into a categories. Lets a create a new variable.\n",
        "df[\"CompetitionDistance_Cat\"] = pd.cut(df[\"CompetitionDistance\"], 5)"
      ],
      "execution_count": null,
      "outputs": []
    },
    {
      "cell_type": "code",
      "metadata": {
        "id": "WsnBsmj4Ii44"
      },
      "source": [
        "f, ax = plt.subplots(1,2, figsize = (15,5))\n",
        "\n",
        "df.groupby(by = \"CompetitionDistance_Cat\").Sales.mean().plot(kind = \"bar\", title = \"Average Total Sales by Competition Distance\", ax = ax[0])\n",
        "df.groupby(by = \"CompetitionDistance_Cat\").Customers.mean().plot(kind = \"bar\", title = \"Average Total Customers by Competition Distance\", ax = ax[1])\n",
        "\n",
        "# It is pretty clear. If the competions is very far away, the stores are performing better (sales and customers)"
      ],
      "execution_count": null,
      "outputs": []
    },
    {
      "cell_type": "code",
      "metadata": {
        "id": "ifII3yEVIzZX"
      },
      "source": [
        "df.drop(['Avg_Customer_Sales','CompetitionDistance_Cat'],axis=1,inplace=True)"
      ],
      "execution_count": null,
      "outputs": []
    },
    {
      "cell_type": "markdown",
      "metadata": {
        "id": "nZh4eH4Xtmpw"
      },
      "source": [
        "**Box plot shows that we have a very high outliers in sales**"
      ]
    },
    {
      "cell_type": "code",
      "metadata": {
        "id": "7yVWN270cli1"
      },
      "source": [
        "#checking outliers in sales\n",
        "sns.boxplot(rossman_df['Sales'])"
      ],
      "execution_count": null,
      "outputs": []
    },
    {
      "cell_type": "markdown",
      "metadata": {
        "id": "NrDCE4gftgqd"
      },
      "source": [
        "**Removing Outliers Of Sales Column**"
      ]
    },
    {
      "cell_type": "code",
      "metadata": {
        "id": "UFJ0UT1oc7gX"
      },
      "source": [
        "#removing outliers\n",
        "def remove_outlier(df_in, col_name):\n",
        "    q1 = df_in[col_name].quantile(0.25)\n",
        "    q3 = df_in[col_name].quantile(0.75)\n",
        "    iqr = q3-q1 #Interquartile range\n",
        "    fence_low  = q1-1.5*iqr\n",
        "    fence_high = q3+1.5*iqr\n",
        "    df_out = df_in.loc[(df_in[col_name] > fence_low) & (df_in[col_name] < fence_high)]\n",
        "    return df_out"
      ],
      "execution_count": null,
      "outputs": []
    },
    {
      "cell_type": "code",
      "metadata": {
        "id": "3F3VwzGidJ9j"
      },
      "source": [
        "# defining new variable after removing outliers\n",
        "df= remove_outlier(df, 'Sales')"
      ],
      "execution_count": null,
      "outputs": []
    },
    {
      "cell_type": "markdown",
      "metadata": {
        "id": "dhdVJRmfO2_E"
      },
      "source": [
        "# **Conclusion of the analysis:**\n",
        " \n",
        "**Sales are highly correlated to number of Customers.**\n",
        " \n",
        "**The most selling and crowded store type is A.**\n",
        " \n",
        "**StoreType B has the lowest Average Sales per Customer. So i think customers visit this type only for small things.**\n",
        " \n",
        "**StoreTybe D had the highest buyer cart.**\n",
        " \n",
        "**Promo runs only in weekdays.**\n",
        " \n",
        "**For all stores, Promotion leads to increase in Sales and Customers both.**\n",
        " \n",
        "**More stores are opened during School holidays than State holidays.**\n",
        " \n",
        "**The stores which are opened during School Holiday have more sales than normal days.**\n",
        " \n",
        "**Sales are increased during Chirstmas week, this might be due to the fact that people buy more beauty products during a Christmas celebration.**\n",
        " \n",
        "**Promo2 doesnt seems to be correlated to any significant change in the sales amount.**\n",
        " \n",
        "**Absence of values in features CompetitionOpenSinceYear/Month doesn’t indicate the absence of competition as CompetitionDistance values are not null where the other two values are null.**"
      ]
    },
    {
      "cell_type": "markdown",
      "metadata": {
        "id": "0MdR35oBv2mO"
      },
      "source": [
        "### **Drop Subsets Of Data Where Might Cause Bias**"
      ]
    },
    {
      "cell_type": "code",
      "metadata": {
        "id": "Xplptpkz8yei"
      },
      "source": [
        "# where stores are closed, they won't generate sales, so we will remove that part of the dataset\n",
        "df = df[df.Open != 0]"
      ],
      "execution_count": null,
      "outputs": []
    },
    {
      "cell_type": "code",
      "metadata": {
        "id": "b8ByPZxVv_xq"
      },
      "source": [
        "# Open isn't a variable anymore, so we'll drop it too\n",
        "df = df.drop('Open', axis=1)"
      ],
      "execution_count": null,
      "outputs": []
    },
    {
      "cell_type": "code",
      "metadata": {
        "id": "OXGh57FQwBsL"
      },
      "source": [
        "# Check if there's any opened store with zero sales\n",
        "df[df.Sales == 0]['Store'].sum()"
      ],
      "execution_count": null,
      "outputs": []
    },
    {
      "cell_type": "code",
      "metadata": {
        "id": "_PiThQJmwVfm"
      },
      "source": [
        "# see the percentage of open stored with zero sales\n",
        "df[df.Sales == 0]['Sales'].sum()/df.Sales.sum()"
      ],
      "execution_count": null,
      "outputs": []
    },
    {
      "cell_type": "code",
      "metadata": {
        "id": "L712HnmKwVbG"
      },
      "source": [
        "# remove this part of data to avoid bias\n",
        "df = df[df.Sales != 0]"
      ],
      "execution_count": null,
      "outputs": []
    },
    {
      "cell_type": "code",
      "metadata": {
        "id": "_WU0-zx7xvbE"
      },
      "source": [
        "df_new=df.copy()"
      ],
      "execution_count": null,
      "outputs": []
    },
    {
      "cell_type": "code",
      "metadata": {
        "id": "__KwbiepsXq4"
      },
      "source": [
        "df_new = pd.get_dummies(df_new,columns=['StoreType','Assortment'])"
      ],
      "execution_count": null,
      "outputs": []
    },
    {
      "cell_type": "code",
      "metadata": {
        "id": "ksgMOvd6w_BP"
      },
      "source": [
        "df_new.head()"
      ],
      "execution_count": null,
      "outputs": []
    },
    {
      "cell_type": "markdown",
      "metadata": {
        "id": "VNhiZ5E5Ci1V"
      },
      "source": [
        "**From plot it can be sen that most of the sales have been on 1st and last day of week**"
      ]
    },
    {
      "cell_type": "code",
      "metadata": {
        "id": "GE9cWup3CCoE"
      },
      "source": [
        "#plot for sales in terms of days ofthe week\n",
        "plt.figure(figsize=(15,8))\n",
        "sns.barplot(x='DayOfWeek', y='Sales' ,data=df_new); "
      ],
      "execution_count": null,
      "outputs": []
    },
    {
      "cell_type": "markdown",
      "metadata": {
        "id": "V8nJb_IundJo"
      },
      "source": [
        "#### **Setting Features and Target Variables**"
      ]
    },
    {
      "cell_type": "code",
      "metadata": {
        "id": "xhAG-pzdwJLW"
      },
      "source": [
        "X = df_new.drop(['Sales','Store','Date','Year'] , axis = 1)\n",
        "y= df_new.Sales"
      ],
      "execution_count": null,
      "outputs": []
    },
    {
      "cell_type": "code",
      "metadata": {
        "id": "umcV97SkW9l_"
      },
      "source": [
        "X.shape"
      ],
      "execution_count": null,
      "outputs": []
    },
    {
      "cell_type": "code",
      "metadata": {
        "id": "BNL3wQQNueAW"
      },
      "source": [
        "X.head()"
      ],
      "execution_count": null,
      "outputs": []
    },
    {
      "cell_type": "code",
      "metadata": {
        "id": "nYNCtsEJud0o"
      },
      "source": [
        "y.head()"
      ],
      "execution_count": null,
      "outputs": []
    },
    {
      "cell_type": "markdown",
      "metadata": {
        "id": "HYrIuOaNn40Y"
      },
      "source": [
        "#### **Splitting Dataset Into Training Set and Test Set**"
      ]
    },
    {
      "cell_type": "code",
      "metadata": {
        "id": "CXy-MerZxSDW"
      },
      "source": [
        "X_train,X_test,y_train,y_test = train_test_split(X,y,test_size=0.3, random_state=0)"
      ],
      "execution_count": null,
      "outputs": []
    },
    {
      "cell_type": "code",
      "metadata": {
        "id": "qPB2w_PTKT1_"
      },
      "source": [
        "columns=X_train.columns"
      ],
      "execution_count": null,
      "outputs": []
    },
    {
      "cell_type": "markdown",
      "metadata": {
        "id": "lX7jJJ6CpBFx"
      },
      "source": [
        "## **Implementing Supervised Machine Learning algorithms.**"
      ]
    },
    {
      "cell_type": "markdown",
      "metadata": {
        "id": "jHSGn1LD9YbB"
      },
      "source": [
        "## **1.  Linear Regression (OLS)**"
      ]
    },
    {
      "cell_type": "code",
      "metadata": {
        "id": "XMpz1ImZVxwK"
      },
      "source": [
        "# Transforming data\n",
        "scaler = MinMaxScaler()\n",
        "X_train = scaler.fit_transform(X_train)\n",
        "X_test = scaler.transform(X_test)"
      ],
      "execution_count": null,
      "outputs": []
    },
    {
      "cell_type": "code",
      "metadata": {
        "id": "skLOJkZkUb9H"
      },
      "source": [
        "# Fitting Multiple Linear Regression to the Training set\n",
        "regressor = LinearRegression()\n",
        "regressor.fit(X_train, y_train)"
      ],
      "execution_count": null,
      "outputs": []
    },
    {
      "cell_type": "code",
      "metadata": {
        "id": "yPotObXnUb47"
      },
      "source": [
        "regressor.intercept_"
      ],
      "execution_count": null,
      "outputs": []
    },
    {
      "cell_type": "code",
      "metadata": {
        "id": "0TQYE6NIUbz5"
      },
      "source": [
        "regressor.coef_"
      ],
      "execution_count": null,
      "outputs": []
    },
    {
      "cell_type": "code",
      "metadata": {
        "id": "gk08TNMFWNfc"
      },
      "source": [
        "y_pred_train = regressor.predict(X_train)"
      ],
      "execution_count": null,
      "outputs": []
    },
    {
      "cell_type": "code",
      "metadata": {
        "id": "dOQHYZlhUbyF"
      },
      "source": [
        "# Predicting the Test set results\n",
        "y_pred = regressor.predict(X_test)"
      ],
      "execution_count": null,
      "outputs": []
    },
    {
      "cell_type": "code",
      "metadata": {
        "id": "kcdpckpBVKgs"
      },
      "source": [
        "mean_squared_error(y_test, y_pred)"
      ],
      "execution_count": null,
      "outputs": []
    },
    {
      "cell_type": "code",
      "metadata": {
        "id": "hZaxVlsIVKc5"
      },
      "source": [
        "# Test performance\n",
        "math.sqrt(mean_squared_error(y_test, y_pred))"
      ],
      "execution_count": null,
      "outputs": []
    },
    {
      "cell_type": "code",
      "metadata": {
        "id": "3L6tAK_8WDbe"
      },
      "source": [
        "train_score_1=regressor.score(X_train,y_train)\n",
        "train_score_1"
      ],
      "execution_count": null,
      "outputs": []
    },
    {
      "cell_type": "code",
      "metadata": {
        "id": "HmizKpu0VKXW"
      },
      "source": [
        "test_score_1=regressor.score(X_test,y_test)\n",
        "test_score_1"
      ],
      "execution_count": null,
      "outputs": []
    },
    {
      "cell_type": "code",
      "metadata": {
        "id": "4wfSIY8eydKH"
      },
      "source": [
        "#storing 100 observations for analysis\n",
        "simple_lr_pred = y_pred[:100]\n",
        "simple_lr_real = y_test[:100]\n",
        "dataset_lr = pd.DataFrame({'Real':simple_lr_real,'PredictedLR':simple_lr_pred}) #storing these values into dataframe"
      ],
      "execution_count": null,
      "outputs": []
    },
    {
      "cell_type": "code",
      "metadata": {
        "id": "2-L-0495yc4Z"
      },
      "source": [
        "#storing absolute diffrences between actual sales price and predicted\n",
        "dataset_lr['diff']=(dataset_lr['Real']-dataset_lr['PredictedLR']).abs()"
      ],
      "execution_count": null,
      "outputs": []
    },
    {
      "cell_type": "code",
      "metadata": {
        "id": "KewPys1OylB2"
      },
      "source": [
        "#visualising our predictions\n",
        "sns.lmplot(x='Real', y='PredictedLR', data=dataset_lr, line_kws={'color': 'black'});"
      ],
      "execution_count": null,
      "outputs": []
    },
    {
      "cell_type": "markdown",
      "metadata": {
        "id": "kJa21TIuxJYm"
      },
      "source": [
        "## **Inferences On Linear Regression Coefficients**"
      ]
    },
    {
      "cell_type": "code",
      "metadata": {
        "id": "pjzt1ljSuZx8"
      },
      "source": [
        "X = sm.add_constant(X) ## let's add an intercept (beta_0) to our model\n",
        "model = sm.OLS(y, X).fit() ## sm.OLS(output, input)\n",
        "predictions = model.predict(X)\n",
        "\n",
        "# Print out the statistics\n",
        "model.summary()"
      ],
      "execution_count": null,
      "outputs": []
    },
    {
      "cell_type": "markdown",
      "metadata": {
        "id": "kb4z--nJEwhA"
      },
      "source": [
        "## **2. LARS Lasso Regression**"
      ]
    },
    {
      "cell_type": "code",
      "metadata": {
        "id": "EtwkzqqbEQHk"
      },
      "source": [
        "las = LassoLars(alpha=0.3, fit_intercept=False, normalize=True)\n",
        "lasreg = las.fit(X_train, y_train)"
      ],
      "execution_count": null,
      "outputs": []
    },
    {
      "cell_type": "code",
      "metadata": {
        "id": "0_ZEV101E2u3"
      },
      "source": [
        "def rmse(x, y):\n",
        "    return sqrt(mean_squared_error(x, y))\n",
        "\n",
        "# definte MAPE function\n",
        "def mape(x, y): \n",
        "    return np.mean(np.abs((x - y) / x)) * 100\n",
        "\n",
        "train_score_2=lasreg.score(X_train, y_train)\n",
        "test_score_2=lasreg.score(X_test, y_test)\n",
        "\n",
        "print(\"Regresion Model Score\" , \":\" , train_score_2 , \",\" ,\n",
        "      \"Out of Sample Test Score\" ,\":\" , test_score_2)\n",
        "\n",
        "y_predicted = lasreg.predict(X_train)\n",
        "y_test_predicted = lasreg.predict(X_test)\n",
        "\n",
        "print(\"Training RMSE\", \":\", rmse(y_train, y_predicted),\n",
        "      \"Testing RMSE\", \":\", rmse(y_test, y_test_predicted))\n",
        "print(\"Training MAPE\", \":\", mape(y_train, y_predicted),\n",
        "      \"Testing MAPE\", \":\", mape(y_test, y_test_predicted))"
      ],
      "execution_count": null,
      "outputs": []
    },
    {
      "cell_type": "markdown",
      "metadata": {
        "id": "LONPxJUIFNzc"
      },
      "source": [
        "## **3. Decision Tree Regression**"
      ]
    },
    {
      "cell_type": "code",
      "metadata": {
        "id": "5n80jPxrFISD"
      },
      "source": [
        "tree = DecisionTreeRegressor()\n",
        "treereg = tree.fit(X_train, y_train)"
      ],
      "execution_count": null,
      "outputs": []
    },
    {
      "cell_type": "code",
      "metadata": {
        "id": "qJH-A0M8FWoP"
      },
      "source": [
        "train_score_3=treereg.score(X_train, y_train)\n",
        "test_score_3=treereg.score(X_test, y_test)\n",
        "\n",
        "print(\"Regresion Model Score\" , \":\" , train_score_3 , \",\" ,\n",
        "      \"Test Score\" ,\":\" , test_score_3)\n",
        "\n",
        "y_predicted = treereg.predict(X_train)\n",
        "y_test_predicted = treereg.predict(X_test)\n",
        "print(\"Training RMSE\", \":\", rmse(y_train, y_predicted),\n",
        "      \"Testing RMSE\", \":\", rmse(y_test, y_test_predicted))\n",
        "print(\"Training MAPE\", \":\", mape(y_train, y_predicted),\n",
        "      \"Testing MAPE\", \":\", mape(y_test, y_test_predicted))"
      ],
      "execution_count": null,
      "outputs": []
    },
    {
      "cell_type": "markdown",
      "metadata": {
        "id": "V9jIjEL4yzAO"
      },
      "source": [
        "### **Decision Tree With Hyper Parameter Tuning**"
      ]
    },
    {
      "cell_type": "code",
      "metadata": {
        "id": "6_dZplMJpGZU"
      },
      "source": [
        "# #another script that takes toooo long, to find the right parameters for tree\n",
        "# tree = DecisionTreeRegressor()\n",
        "\n",
        "# params = {\n",
        "#          'min_samples_split':[2,3,5,7],\n",
        "#          'min_samples_leaf':[6,8,10],\n",
        "#          }\n",
        "\n",
        "# grid = RandomizedSearchCV(estimator=rfr,param_distributions=params,verbose=True,cv=10)\n",
        "# #choosing 10 K-Folds makes sure i went through all of the data and didn't miss any pattern.\n",
        "\n",
        "# grid.fit(X_train, y_train)\n",
        "# grid.best_params_"
      ],
      "execution_count": null,
      "outputs": []
    },
    {
      "cell_type": "markdown",
      "metadata": {
        "id": "_u1ygc0qodPQ"
      },
      "source": [
        " **I trained Model with hyper parameters..to not run everytime i record the result**\n",
        "\n",
        "**Here are our best parameters for Decision Tree**\n",
        "\n",
        "**{ min_samples_split=5,min_samples_leaf=8 }**"
      ]
    },
    {
      "cell_type": "code",
      "metadata": {
        "id": "9i7J_T_XfrZI"
      },
      "source": [
        "tree = DecisionTreeRegressor(min_samples_leaf=8,min_samples_split=5)\n",
        "treereg = tree.fit(X_train, y_train)"
      ],
      "execution_count": null,
      "outputs": []
    },
    {
      "cell_type": "code",
      "metadata": {
        "id": "Gz0BkZCHpAJ7"
      },
      "source": [
        "train_score_4=treereg.score(X_train, y_train)\n",
        "test_score_4=treereg.score(X_test, y_test)\n",
        "\n",
        "print(\"Regresion Model Score\" , \":\" , train_score_4 , \",\" ,\n",
        "      \"Test Score\" ,\":\" , test_score_4)\n",
        "\n",
        "y_predicted = treereg.predict(X_train)\n",
        "y_test_predicted = treereg.predict(X_test)\n",
        "print(\"Training RMSE\", \":\", rmse(y_train, y_predicted),\n",
        "      \"Testing RMSE\", \":\", rmse(y_test, y_test_predicted))\n",
        "print(\"Training MAPE\", \":\", mape(y_train, y_predicted),\n",
        "      \"Testing MAPE\", \":\", mape(y_test, y_test_predicted))"
      ],
      "execution_count": null,
      "outputs": []
    },
    {
      "cell_type": "code",
      "metadata": {
        "id": "6uYXg71KwA_P"
      },
      "source": [
        "#storing 100 observations for analysis\n",
        "dc_pred = y_test_predicted[:100]\n",
        "dc_real = y_test[:100]\n",
        "dataset_dc = pd.DataFrame({'Real':dc_real,'PredictedDC':dc_pred}) #storing these values into dataframe"
      ],
      "execution_count": null,
      "outputs": []
    },
    {
      "cell_type": "code",
      "metadata": {
        "id": "pfRSf3yYweU4"
      },
      "source": [
        "#storing absolute diffrences between actual sales price and predicted\n",
        "dataset_dc['diff']=(dataset_dc['Real']-dataset_dc['PredictedDC']).abs()"
      ],
      "execution_count": null,
      "outputs": []
    },
    {
      "cell_type": "code",
      "metadata": {
        "id": "WZTnC09swqK2"
      },
      "source": [
        "#visualising our predictions\n",
        "sns.lmplot(x='Real', y='PredictedDC', data=dataset_dc, line_kws={'color': 'black'});"
      ],
      "execution_count": null,
      "outputs": []
    },
    {
      "cell_type": "markdown",
      "metadata": {
        "id": "6bICEuOjXp5r"
      },
      "source": [
        "# **4. Support Vector Regression**"
      ]
    },
    {
      "cell_type": "code",
      "metadata": {
        "id": "nucB1xA5Dlec"
      },
      "source": [
        "#%%time\n",
        "#from sklearn.svm import SVR\n",
        "#svr=SVR()\n",
        "#svr_reg=svr.fit(X_train,y_train)\n",
        "#svr"
      ],
      "execution_count": null,
      "outputs": []
    },
    {
      "cell_type": "code",
      "metadata": {
        "id": "SeRxxjw6D762"
      },
      "source": [
        "#print(\"Regresion Model Score\" , \":\" , svr_reg.score(X_train, y_train) , \",\" ,\n",
        "#      \"Out of Sample Test Score\" ,\":\" , svr_reg.score(X_test, y_test))\n",
        "\n",
        "#y_predicted = svr_reg.predict(X_train)\n",
        "#y_test_predicted = svr_reg.predict(X_test)\n",
        "\n",
        "#print(\"Training RMSE\", \":\", rmse(y_train, y_predicted),\n",
        "#      \"Testing RMSE\", \":\", rmse(y_test, y_test_predicted))\n",
        "#print(\"Training MAPE\", \":\", mape(y_train, y_predicted),\n",
        "#      \"Testing MAPE\", \":\", mape(y_test, y_test_predicted))"
      ],
      "execution_count": null,
      "outputs": []
    },
    {
      "cell_type": "markdown",
      "metadata": {
        "id": "cOUgK1a7G8gx"
      },
      "source": [
        "## **5. K-Nearest Neighbors Regression**"
      ]
    },
    {
      "cell_type": "code",
      "metadata": {
        "id": "ckBlcgPMG958"
      },
      "source": [
        "from sklearn.neighbors import KNeighborsRegressor\n",
        "knn = KNeighborsRegressor(n_neighbors = 30)\n",
        "knnreg = knn.fit(X_train, y_train)"
      ],
      "execution_count": null,
      "outputs": []
    },
    {
      "cell_type": "code",
      "metadata": {
        "id": "hnC4QKDjHEii"
      },
      "source": [
        "print(\"Regresion Model Score\" , \":\" , knnreg.score(X_train, y_train) , \",\" ,\n",
        "      \"Out of Sample Test Score\" ,\":\" , knnreg.score(X_test, y_test))\n",
        "\n",
        "y_predicted = knnreg.predict(X_train)\n",
        "y_test_predicted = knnreg.predict(X_test)\n",
        "\n",
        "print(\"Training RMSE\", \":\", rmse(y_train, y_predicted),\n",
        "      \"Testing RMSE\", \":\", rmse(y_test, y_test_predicted))\n",
        "print(\"Training MAPE\", \":\", mape(y_train, y_predicted),\n",
        "      \"Testing MAPE\", \":\", mape(y_test, y_test_predicted))"
      ],
      "execution_count": null,
      "outputs": []
    },
    {
      "cell_type": "markdown",
      "metadata": {
        "id": "KH7pHiYMnf60"
      },
      "source": [
        "### **6. Random Forest With Hyper Parameter Tuning**"
      ]
    },
    {
      "cell_type": "code",
      "metadata": {
        "id": "J6LucnyFg2HC"
      },
      "source": [
        "# #another script that takes toooo long, to find the right parameters for RFR\n",
        "# rfr=RandomForestRegressor(n_jobs=-1)\n",
        "\n",
        "# params = {\n",
        "#          'n_estimators':[40,50,60,70,80,90],\n",
        "#          'min_samples_split':[2,3,6,8],\n",
        "#          'min_samples_leaf':[1,2,3,4],\n",
        "#          'max_depth':[None,5,15,30]\n",
        "#          }\n",
        "\n",
        "# #the dimensionality is high, the number of combinations we have to search is enormous, using RandomizedSearchCV is a better option then GridSearchCV\n",
        "# grid = RandomizedSearchCV(estimator=rfr,param_distributions=params,verbose=True,cv=10)\n",
        "\n",
        "# #choosing 10 K-Folds makes sure i went through all of the data and didn't miss any pattern.\n",
        "# grid.fit(X_train, y_train)\n",
        "# grid.best_params_"
      ],
      "execution_count": null,
      "outputs": []
    },
    {
      "cell_type": "markdown",
      "metadata": {
        "id": "yetSDKqYlgnP"
      },
      "source": [
        " **I trained Model with hyper parameters..to not run everytime i record the result**\n",
        "\n",
        "**Here are our best parameters for Random Forest**\n",
        "\n",
        "**{ n_estimators=80,min_samples_split=2,min_samples_leaf=1,max_depth=None }**"
      ]
    },
    {
      "cell_type": "code",
      "metadata": {
        "id": "ROcb64LDFld9"
      },
      "source": [
        "#%%time\n",
        "rdf = RandomForestRegressor(n_estimators=80,min_samples_split=2, min_samples_leaf=1,max_depth=None,n_jobs=-1)\n",
        "rdfreg = rdf.fit(X_train, y_train)"
      ],
      "execution_count": null,
      "outputs": []
    },
    {
      "cell_type": "code",
      "metadata": {
        "id": "IfjW3mb8GMWu"
      },
      "source": [
        "train_score_5=rdfreg.score(X_train, y_train)\n",
        "test_score_5=rdfreg.score(X_test, y_test)\n",
        "\n",
        "print(\"Regresion Model Score\" , \":\" , train_score_5 , \",\" ,\n",
        "      \"Test Score\" ,\":\" , test_score_5)   \n",
        "\n",
        "y_predicted_2 = rdfreg.predict(X_train)\n",
        "y_test_predicted_2 = rdfreg.predict(X_test)\n",
        "\n",
        "print(\"Training RMSE\", \":\", rmse(y_train, y_predicted_2),\n",
        "      \"Testing RMSE\", \":\", rmse(y_test, y_test_predicted_2))\n",
        "print(\"Training MAPE\", \":\", mape(y_train, y_predicted_2),\n",
        "      \"Testing MAPE\", \":\", mape(y_test, y_test_predicted_2))"
      ],
      "execution_count": null,
      "outputs": []
    },
    {
      "cell_type": "code",
      "metadata": {
        "id": "D9cyF7lcg66g"
      },
      "source": [
        "y_test_predicted_2"
      ],
      "execution_count": null,
      "outputs": []
    },
    {
      "cell_type": "code",
      "metadata": {
        "id": "GIGcNuidnJzJ"
      },
      "source": [
        "#storing 100 observations for analysis\n",
        "rf_prd = y_test_predicted_2[:100]\n",
        "rf_real = y_test[:100]\n",
        "dataset_rf = pd.DataFrame({'Real':rf_real,'PredictedRF':rf_prd})"
      ],
      "execution_count": null,
      "outputs": []
    },
    {
      "cell_type": "code",
      "metadata": {
        "id": "qa9A7TcunZdP"
      },
      "source": [
        "#storing absolute diffrences between actual sales price and predicted\n",
        "dataset_rf['diff']=(dataset_rf['Real']-dataset_rf['PredictedRF']).abs()"
      ],
      "execution_count": null,
      "outputs": []
    },
    {
      "cell_type": "code",
      "metadata": {
        "id": "4BltAAalnJvE"
      },
      "source": [
        " # taking 4 sample\n",
        "dataset_rf.sample(4)"
      ],
      "execution_count": null,
      "outputs": []
    },
    {
      "cell_type": "code",
      "metadata": {
        "id": "71gNaRAMnJtY"
      },
      "source": [
        "#Statistical description of our predictions and actual values \n",
        "dataset_rf.describe()"
      ],
      "execution_count": null,
      "outputs": []
    },
    {
      "cell_type": "code",
      "metadata": {
        "id": "jfgXQDuUnJoM"
      },
      "source": [
        "#plotting the actual,predicted & difference of SALES\n",
        "plt.style.use('seaborn')\n",
        "dataset_rf.plot.hist(subplots=True, legend=False);"
      ],
      "execution_count": null,
      "outputs": []
    },
    {
      "cell_type": "markdown",
      "metadata": {
        "id": "4ZU_2aN_n7E6"
      },
      "source": [
        "**As we can see that Actual, Prediction values are approximately closed to each other and there is no such significant variation in our plots.**"
      ]
    },
    {
      "cell_type": "code",
      "metadata": {
        "id": "ZOo6Wk-uoAyv"
      },
      "source": [
        "#visualising our predictions\n",
        "sns.lmplot(x='Real', y='PredictedRF', data=dataset_rf, line_kws={'color': 'red'}, size=6, aspect=1);"
      ],
      "execution_count": null,
      "outputs": []
    },
    {
      "cell_type": "markdown",
      "metadata": {
        "id": "6k00qibk0Z3H"
      },
      "source": [
        "## **Feature Importance On Random Forest Regressor**\n",
        "\n",
        "As we can see that Random Forest has the highest test score"
      ]
    },
    {
      "cell_type": "code",
      "metadata": {
        "id": "XBvrbmQ9ylt2"
      },
      "source": [
        "def plot_feature_importance(importance,names,model_type):\n",
        "\n",
        "  #Create arrays from feature importance and feature names\n",
        "  feature_importance = np.array(importance)\n",
        "  feature_names = np.array(names)\n",
        "\n",
        "  #Create a DataFrame using a Dictionary\n",
        "  data={'feature_names':feature_names,'feature_importance':feature_importance}\n",
        "  fi_df = pd.DataFrame(data)\n",
        "\n",
        "  #Sort the DataFrame in order decreasing feature importance\n",
        "  fi_df.sort_values(by=['feature_importance'], ascending=False,inplace=True)\n",
        "\n",
        "  #Define size of bar plot\n",
        "  plt.figure(figsize=(10,8))\n",
        "  #Plot Searborn bar chart\n",
        "  sns.barplot(x=fi_df['feature_importance'], y=fi_df['feature_names'])\n",
        "  #Add chart labels\n",
        "  plt.title(model_type + ' FEATURE IMPORTANCE')\n",
        "  plt.xlabel('FEATURE IMPORTANCE')\n",
        "  plt.ylabel('FEATURE NAMES')"
      ],
      "execution_count": null,
      "outputs": []
    },
    {
      "cell_type": "code",
      "metadata": {
        "id": "0anwmMKOylsC"
      },
      "source": [
        "plot_feature_importance(rdfreg.feature_importances_,columns[:],'RANDOM FOREST')"
      ],
      "execution_count": null,
      "outputs": []
    },
    {
      "cell_type": "markdown",
      "metadata": {
        "id": "1oG3iBUg02pz"
      },
      "source": [
        "**Customers, CompetitionDistance, StoreType_d, Promo these four are most important features in our sales prediction.**"
      ]
    },
    {
      "cell_type": "code",
      "metadata": {
        "id": "h33ABde4wwP3"
      },
      "source": [
        "score_df = pd.DataFrame({'Train_Score':[train_score_1,train_score_2,train_score_3,train_score_4,train_score_5],'Test_Score':[test_score_1,test_score_2,test_score_3,test_score_4,test_score_5]},index=['Linear Regression','Lasso Regression','Decision Tree',\"Decision Tree(hyperparameters)\",'Random Forest Regression'])"
      ],
      "execution_count": null,
      "outputs": []
    },
    {
      "cell_type": "markdown",
      "metadata": {
        "id": "X1Ww6q2v0mLI"
      },
      "source": [
        "# **Conclusion**"
      ]
    },
    {
      "cell_type": "code",
      "metadata": {
        "id": "Llc3zcxL0r9t"
      },
      "source": [
        "score_df"
      ],
      "execution_count": null,
      "outputs": []
    },
    {
      "cell_type": "markdown",
      "metadata": {
        "id": "L6RPWqCd0x1d"
      },
      "source": [
        "**Random Forest regressor achieved lowest MAPE as 5.65% showing that it is a highly accurate model. MAE is the average magnitude of error produced by your model, the MAPE is how far the model’s predictions are off from their corresponding outputs on average**![ndIXERr.jpg](data:image/jpeg;base64,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)"
      ]
    },
    {
      "cell_type": "code",
      "metadata": {
        "id": "n9vOSJLOir3Y"
      },
      "source": [],
      "execution_count": null,
      "outputs": []
    }
  ]
}